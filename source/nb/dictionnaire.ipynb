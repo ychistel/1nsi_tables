{
 "cells": [
  {
   "cell_type": "code",
   "execution_count": 3,
   "metadata": {},
   "outputs": [
    {
     "data": {
      "text/plain": [
       "dict"
      ]
     },
     "execution_count": 3,
     "metadata": {},
     "output_type": "execute_result"
    }
   ],
   "source": [
    "mon_chien={\"race\":\"labrador\",\"age\":7,\"couleur\":\"noir\",\"poids\":40}\n",
    "musique={\"rock\":28,\"pop\":19,\"rap\":21,\"RnB\":5}\n",
    "type(mon_chien)"
   ]
  },
  {
   "cell_type": "code",
   "execution_count": 4,
   "metadata": {},
   "outputs": [],
   "source": [
    "ma_voiture={\"marque\":\"wolkswagen\",\"modèle\":[\"polo\",5,1.4,\"grise\"],\"âge\":10}\n",
    "# Le dictionnaire ma_voiture contient 3 éléments\n",
    "# Pour la clé \"marque\", la valeur \"wolkswagen\" est de type string\n",
    "# Pour la clé \"modèle\", la valeur [\"polo\",5,1.4,\"grise\"] est de type tableau / liste\n",
    "# Pour la clé \"âge\", la valeur 10 est de type integer"
   ]
  },
  {
   "cell_type": "code",
   "execution_count": 5,
   "metadata": {},
   "outputs": [
    {
     "data": {
      "text/plain": [
       "'wolkswagen'"
      ]
     },
     "execution_count": 5,
     "metadata": {},
     "output_type": "execute_result"
    }
   ],
   "source": [
    "ma_voiture={\"marque\":\"wolkswagen\",\"modèle\":[\"polo\",5,1.4,\"grise\"],\"âge\":10}\n",
    "ma_voiture[\"marque\"]"
   ]
  },
  {
   "cell_type": "code",
   "execution_count": 6,
   "metadata": {},
   "outputs": [
    {
     "data": {
      "text/plain": [
       "['polo', 5, 1.4, 'grise']"
      ]
     },
     "execution_count": 6,
     "metadata": {},
     "output_type": "execute_result"
    }
   ],
   "source": [
    "ma_voiture[\"modèle\"]"
   ]
  },
  {
   "cell_type": "code",
   "execution_count": 7,
   "metadata": {},
   "outputs": [
    {
     "name": "stdout",
     "output_type": "stream",
     "text": [
      "wolkswagen\n",
      "10\n",
      "['polo', 5, 1.4, 'grise']\n"
     ]
    }
   ],
   "source": [
    "for cle in ma_voiture:\n",
    "    print(ma_voiture[cle])"
   ]
  },
  {
   "cell_type": "code",
   "execution_count": 8,
   "metadata": {},
   "outputs": [],
   "source": [
    "mes_BD={}\n",
    "mes_BD[\"Astérix\"]=25\n",
    "mes_BD[\"Gaston Lagaffe\"]=12\n",
    "mes_BD[\"Tintin\"]=22"
   ]
  },
  {
   "cell_type": "code",
   "execution_count": 9,
   "metadata": {},
   "outputs": [
    {
     "name": "stdout",
     "output_type": "stream",
     "text": [
      "{'Astérix': 25, 'Gaston Lagaffe': 12, 'Tintin': 22}\n"
     ]
    }
   ],
   "source": [
    "print(mes_BD)"
   ]
  },
  {
   "cell_type": "code",
   "execution_count": 10,
   "metadata": {},
   "outputs": [],
   "source": [
    "automobile={\"france\":[\"renault\",\"peugeot\",\"citroen\"],\"allemagne\":[\"wolkswagen\",\"mercedes\",\"opel\"]}"
   ]
  },
  {
   "cell_type": "code",
   "execution_count": 11,
   "metadata": {},
   "outputs": [
    {
     "name": "stdout",
     "output_type": "stream",
     "text": [
      "{'allemagne': ['wolkswagen', 'mercedes', 'opel'], 'france': ['renault', 'peugeot', 'citroen']}\n"
     ]
    }
   ],
   "source": [
    "print(automobile)"
   ]
  },
  {
   "cell_type": "code",
   "execution_count": 12,
   "metadata": {},
   "outputs": [],
   "source": [
    "automobile[\"japon\"]=[\"toyota\",\"honda\"]"
   ]
  },
  {
   "cell_type": "code",
   "execution_count": 13,
   "metadata": {},
   "outputs": [
    {
     "name": "stdout",
     "output_type": "stream",
     "text": [
      "{'allemagne': ['wolkswagen', 'mercedes', 'opel'], 'japon': ['toyota', 'honda'], 'france': ['renault', 'peugeot', 'citroen']}\n"
     ]
    }
   ],
   "source": [
    "print(automobile)"
   ]
  },
  {
   "cell_type": "code",
   "execution_count": 29,
   "metadata": {},
   "outputs": [
    {
     "name": "stdout",
     "output_type": "stream",
     "text": [
      "allemagne - japon - france - "
     ]
    }
   ],
   "source": [
    "for pays in automobile.keys():\n",
    "    print(pays,end=\" - \")"
   ]
  },
  {
   "cell_type": "code",
   "execution_count": 30,
   "metadata": {},
   "outputs": [
    {
     "name": "stdout",
     "output_type": "stream",
     "text": [
      "['wolkswagen', 'mercedes', 'opel'] - ['toyota', 'honda'] - ['renault', 'peugeot', 'citroen'] - "
     ]
    }
   ],
   "source": [
    "for marques in automobile.values():\n",
    "    print(marques,end=\" - \")"
   ]
  },
  {
   "cell_type": "code",
   "execution_count": 31,
   "metadata": {},
   "outputs": [
    {
     "name": "stdout",
     "output_type": "stream",
     "text": [
      "('allemagne', ['wolkswagen', 'mercedes', 'opel']) - ('japon', ['toyota', 'honda']) - ('france', ['renault', 'peugeot', 'citroen']) - "
     ]
    }
   ],
   "source": [
    "for element in automobile.items():\n",
    "    print(element,end=\" - \")"
   ]
  },
  {
   "cell_type": "code",
   "execution_count": 32,
   "metadata": {},
   "outputs": [],
   "source": [
    "del automobile[\"japon\"]"
   ]
  },
  {
   "cell_type": "code",
   "execution_count": 33,
   "metadata": {},
   "outputs": [
    {
     "data": {
      "text/plain": [
       "{'allemagne': ['wolkswagen', 'mercedes', 'opel'],\n",
       " 'france': ['renault', 'peugeot', 'citroen']}"
      ]
     },
     "execution_count": 33,
     "metadata": {},
     "output_type": "execute_result"
    }
   ],
   "source": [
    "automobile"
   ]
  },
  {
   "cell_type": "code",
   "execution_count": null,
   "metadata": {},
   "outputs": [],
   "source": []
  }
 ],
 "metadata": {
  "kernelspec": {
   "display_name": "Python 3",
   "language": "python",
   "name": "python3"
  },
  "language_info": {
   "codemirror_mode": {
    "name": "ipython",
    "version": 3
   },
   "file_extension": ".py",
   "mimetype": "text/x-python",
   "name": "python",
   "nbconvert_exporter": "python",
   "pygments_lexer": "ipython3",
   "version": "3.9.4"
  },
  "latex_envs": {
   "LaTeX_envs_menu_present": false,
   "autoclose": false,
   "autocomplete": false,
   "bibliofile": "biblio.bib",
   "cite_by": "apalike",
   "current_citInitial": 1,
   "eqLabelWithNumbers": false,
   "eqNumInitial": 1,
   "hotkeys": {
    "equation": "Ctrl-E",
    "itemize": "Ctrl-I"
   },
   "labels_anchors": false,
   "latex_user_defs": false,
   "report_style_numbering": false,
   "user_envs_cfg": false
  }
 },
 "nbformat": 4,
 "nbformat_minor": 2
}
