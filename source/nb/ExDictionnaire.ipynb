{
 "cells": [
  {
   "cell_type": "markdown",
   "metadata": {},
   "source": [
    "# Exercice 1\n",
    "\n",
    "1. Créer un dictionnaire europe avec au moins 8 éléments et respectant la structure suivante :\n",
    "    * Les clés seront des pays européens;      \n",
    "    * Les valeurs seront les capitales de ces pays.\n",
    "\n",
    "2. La fonction **len** permet de connaître le nombre d'éléments. Vérifier que votre dictionnaire a 8 éléments.\n",
    "3. Ajouter par une simple affectation la \"Pologne\" et sa capitale \"Varsovie\".\n",
    "4. Ajouter par affectation le pays dont la capitale est Riga.\n",
    "5. Ajouter par une affectation la Finlande.\n",
    "6. Ajouter la Hongrie et sa capitale \"Bucarest\" (c'est une erreur volontaire), puis modifier avec la bonne capitale hongroise. Ajouter le pays dont la capitale est \"Bucarest\".\n",
    "7. Combien avez-vous de valeurs dans votre dictionnaire ?\n",
    "8. Afficher à l'aide de 2 boucles les clés puis les valeurs de votre dictionnaire.\n"
   ]
  },
  {
   "cell_type": "code",
   "execution_count": 2,
   "metadata": {},
   "outputs": [],
   "source": [
    "europe={\"france\":\"paris\", \"allemagne\":\"berlin\", \"italie\":\"rome\", \"espagne\":\"madrid\", \"portugal\":\"lisbonne\",\\\n",
    "        \"belgique\":\"bruxelle\", \"pays-bas\":\"amsterdam\", \"suede\":\"stockholm\"}"
   ]
  },
  {
   "cell_type": "code",
   "execution_count": 3,
   "metadata": {},
   "outputs": [
    {
     "data": {
      "text/plain": [
       "{'france': 'paris',\n",
       " 'allemagne': 'berlin',\n",
       " 'italie': 'rome',\n",
       " 'espagne': 'madrid',\n",
       " 'portugal': 'lisbonne',\n",
       " 'belgique': 'bruxelle',\n",
       " 'pays-bas': 'amsterdam',\n",
       " 'suede': 'stockholm'}"
      ]
     },
     "execution_count": 3,
     "metadata": {},
     "output_type": "execute_result"
    }
   ],
   "source": [
    "europe"
   ]
  },
  {
   "cell_type": "code",
   "execution_count": 4,
   "metadata": {},
   "outputs": [
    {
     "data": {
      "text/plain": [
       "8"
      ]
     },
     "execution_count": 4,
     "metadata": {},
     "output_type": "execute_result"
    }
   ],
   "source": [
    "len(europe)"
   ]
  },
  {
   "cell_type": "code",
   "execution_count": 7,
   "metadata": {},
   "outputs": [],
   "source": [
    "europe[\"finlande\"]=\"helsinki\""
   ]
  },
  {
   "cell_type": "code",
   "execution_count": 8,
   "metadata": {
    "scrolled": true
   },
   "outputs": [
    {
     "name": "stdout",
     "output_type": "stream",
     "text": [
      "france\n",
      "allemagne\n",
      "italie\n",
      "espagne\n",
      "portugal\n",
      "belgique\n",
      "pays-bas\n",
      "suede\n",
      "finlande\n"
     ]
    }
   ],
   "source": [
    "for cle in europe.keys():\n",
    "    print(cle)"
   ]
  },
  {
   "cell_type": "code",
   "execution_count": 9,
   "metadata": {
    "scrolled": true
   },
   "outputs": [
    {
     "name": "stdout",
     "output_type": "stream",
     "text": [
      "paris\n",
      "berlin\n",
      "rome\n",
      "madrid\n",
      "lisbonne\n",
      "bruxelle\n",
      "amsterdam\n",
      "stockholm\n",
      "helsinki\n"
     ]
    }
   ],
   "source": [
    "for valeur in europe.values():\n",
    "    print(valeur)"
   ]
  },
  {
   "cell_type": "markdown",
   "metadata": {},
   "source": [
    "# Exercice 2\n",
    "\n",
    "On va créer un dictionnaire pour afficher une fiche identité de\n",
    "célébrités.\n",
    "\n",
    "1.  Créer un dictionnaire **célébrités** ayant la structure suivante :\n",
    "\n",
    "    -   Les clés du dictionnaire sont des personnalités célèbres (noms);\n",
    "\n",
    "    -   Les valeurs sont des tableaux contenant dans l’ordre : la\n",
    "        nationalité, l’année de naissance, l’année de décès et leur\n",
    "        activité professionnelle.\n",
    "\n",
    "    Par exemple : **zidane** est la clé pour les valeurs\n",
    "    \\[’france’,’1972’,”,football’\\]"
   ]
  },
  {
   "cell_type": "code",
   "execution_count": 1,
   "metadata": {},
   "outputs": [],
   "source": [
    "célébrités={\"zidane\":[\"france\",'1972','',\"football\"]}"
   ]
  },
  {
   "cell_type": "markdown",
   "metadata": {},
   "source": [
    "2.  Créer plusieurs entrées dans votre dictionnaire au moins trois."
   ]
  },
  {
   "cell_type": "code",
   "execution_count": 2,
   "metadata": {},
   "outputs": [],
   "source": [
    "célébrités[\"parker\"]=[\"france\",'1982','',\"basket\"]"
   ]
  },
  {
   "cell_type": "code",
   "execution_count": 3,
   "metadata": {},
   "outputs": [],
   "source": [
    "célébrités[\"mohamed ali\"]=[\"Etats-Unis\",'1942','2016',\"boxe\"]"
   ]
  },
  {
   "cell_type": "code",
   "execution_count": 4,
   "metadata": {},
   "outputs": [],
   "source": [
    "célébrités[\"pelé\"]=[\"Brésil\",'1940','',\"football\"]"
   ]
  },
  {
   "cell_type": "code",
   "execution_count": 5,
   "metadata": {},
   "outputs": [],
   "source": [
    "célébrités[\"jordan\"]=[\"Etats-Unis\",'1963','',\"basket\"]"
   ]
  },
  {
   "cell_type": "markdown",
   "metadata": {},
   "source": [
    "3.  Créer une fonction **saisir** qui permet d’ajouter des célébrités à\n",
    "    votre dictionnaire en saisissant les valeurs dans des **input**\n",
    "    (voir ci-dessous).\n",
    "\n",
    "    ![image](../img/celebrite1.png)\n",
    "\n",
    "    Saisissez avec votre fonction 3 nouvelles célébrités et vérifiez que\n",
    "    le dictionnaire est bien structuré.\n",
    "\n",
    "    ![image](../img/celebrite2.png)"
   ]
  },
  {
   "cell_type": "code",
   "execution_count": 13,
   "metadata": {},
   "outputs": [],
   "source": [
    "def saisir(dico):\n",
    "    key=input('Nom de la célébrité à ajouter :')\n",
    "    nat=input('Pays de naissance de la célébrité :')\n",
    "    ddn=input('Date de naissance de la célébrité :')\n",
    "    ddc=input('Date de décès de la célébrité :')\n",
    "    act=input('Activité professionnelle de la célébrité :')\n",
    "    if key!='':\n",
    "        dico[key]=[nat,ddn,ddc,act]"
   ]
  },
  {
   "cell_type": "markdown",
   "metadata": {},
   "source": [
    "4.  Créer une fonction **pays** qui prend en paramètre le dictionnaire\n",
    "    et une clé du dictionnaire et retourne le pays d’origine de la\n",
    "    célébrité (voir ci-dessous).\n",
    "\n",
    "    ![image](../img/celebrite3.png)"
   ]
  },
  {
   "cell_type": "code",
   "execution_count": 6,
   "metadata": {},
   "outputs": [],
   "source": [
    "def pays(dico,cle):\n",
    "    return dico[cle][0]"
   ]
  },
  {
   "cell_type": "markdown",
   "metadata": {},
   "source": [
    "5.  Créer de même la fonction **naissance** qui retourne l’année de\n",
    "    naissance de la célébrité."
   ]
  },
  {
   "cell_type": "code",
   "execution_count": 7,
   "metadata": {},
   "outputs": [],
   "source": [
    "def naissance(dico,cle):\n",
    "    return dico[cle][1]"
   ]
  },
  {
   "cell_type": "markdown",
   "metadata": {},
   "source": [
    "6.  Créer de même une fonction **vivant** qui retourne une valeur\n",
    "    booléenne (True, False) et vérifie si la célébrité est\n",
    "    toujours vivante.\n",
    "\n",
    "    ![image](../img/celebrite4.png)"
   ]
  },
  {
   "cell_type": "code",
   "execution_count": 9,
   "metadata": {},
   "outputs": [],
   "source": [
    "def vivant(dico,cle):\n",
    "    if dico[cle][2]!=\"\":\n",
    "        return False\n",
    "    else:\n",
    "        return True"
   ]
  },
  {
   "cell_type": "markdown",
   "metadata": {},
   "source": [
    "7.  Écrire une fonction **age** qui donne l’âge de la célébrité.\n",
    "    Attention, les années saisies sont des chaines de caractères, donc\n",
    "    pour effectuer les calculs, il faut les convertir en “integer” avec\n",
    "    la fonction **eval**."
   ]
  },
  {
   "cell_type": "code",
   "execution_count": 10,
   "metadata": {},
   "outputs": [],
   "source": [
    "def age(dico,cle):\n",
    "    if dico[cle][2]!=\"\":\n",
    "        return str(eval(dico[cle][2])-eval(dico[cle][1]))\n",
    "    else:\n",
    "        return str(2020-eval(dico[cle][1]))"
   ]
  },
  {
   "cell_type": "markdown",
   "metadata": {},
   "source": [
    "8.  Créer la fonction **activité** qui retourne l’activité de\n",
    "    la célébrité."
   ]
  },
  {
   "cell_type": "code",
   "execution_count": 8,
   "metadata": {},
   "outputs": [],
   "source": [
    "def activité(dico,cle):\n",
    "    return dico[cle][-1]"
   ]
  },
  {
   "cell_type": "markdown",
   "metadata": {},
   "source": [
    "9.  Écrire une fonction **cle\\_de\\_valeur** qui liste toutes les\n",
    "    célébrités (clés) qui ont une valeur commune. Par exemple, la même\n",
    "    nationalité, la même année de naissance ou la même activité.\n",
    "\n",
    "    ![image](../img/celebrite5.png)"
   ]
  },
  {
   "cell_type": "code",
   "execution_count": 11,
   "metadata": {},
   "outputs": [],
   "source": [
    "def cle_de_valeur(dico,valeur):\n",
    "    liste=[]\n",
    "    for cle in dico.keys():\n",
    "        if valeur in dico[cle]:\n",
    "            liste.append(cle)\n",
    "    return liste"
   ]
  },
  {
   "cell_type": "markdown",
   "metadata": {},
   "source": [
    "10. Créer une fonction **identité** qui liste toutes les informations\n",
    "    sur la célébrité se trouvant dans le dictionnaire. La fonction\n",
    "    retournera un texte sur plusieurs lignes.\n",
    "\n",
    "    ![image](../img/celebrite6.png)"
   ]
  },
  {
   "cell_type": "code",
   "execution_count": 12,
   "metadata": {},
   "outputs": [],
   "source": [
    "def identité(dico,cle):\n",
    "    info=\"Pays de naissance de \"+cle.capitalize()+\" : \"+pays(célébrités,cle)+\".\\n\"\n",
    "    info=info+\"Année de naissance: \"+naissance(célébrités,cle)+\".\\n\"\n",
    "    if vivant(célébrités,cle):\n",
    "        info=info+\"Son âge aujourdhui est \"+str(age(célébrités,cle))+\" ans.\\n\"\n",
    "    else:\n",
    "        info=info+cle+\" est décédé et à l'âge de \"+age(célébrités,cle)+\" ans.\\n\"\n",
    "    info=info+\"L'activité professionnelle de \"+cle.capitalize()+\" est le \"+activité(célébrités,cle)+\".\\n\"\n",
    "    return info"
   ]
  },
  {
   "cell_type": "markdown",
   "metadata": {},
   "source": [
    "11. Pour finir, écrire un programme qui prend en saisie une valeur à\n",
    "    chercher dans le dictionnaire et qui affiche toutes les valeurs\n",
    "    (ou clés) trouvées en concordance.\n",
    "\n",
    "    ![image](../img/celebrite7.png)"
   ]
  },
  {
   "cell_type": "code",
   "execution_count": 14,
   "metadata": {},
   "outputs": [
    {
     "name": "stdout",
     "output_type": "stream",
     "text": [
      "Saisir le nom d'une célébrité ou une information la concernant: \n",
      "\n",
      "Pays de naissance de Zidane : france.\n",
      "Année de naissance: 1972.\n",
      "Son âge aujourdhui est 48 ans.\n",
      "L'activité professionnelle de Zidane est le football.\n",
      "\n",
      "Pays de naissance de Parker : France Etats-unis .\n",
      "Année de naissance: 1982.\n",
      "Son âge aujourdhui est 38 ans.\n",
      "L'activité professionnelle de Parker est le basket.\n",
      "\n",
      "Pays de naissance de Pelé : Brésil.\n",
      "Année de naissance: 1940.\n",
      "Son âge aujourdhui est 80 ans.\n",
      "L'activité professionnelle de Pelé est le football.\n",
      "\n",
      "Pays de naissance de Jordan : Etats-Unis.\n",
      "Année de naissance: 1963.\n",
      "Son âge aujourdhui est 57 ans.\n",
      "L'activité professionnelle de Jordan est le basket.\n",
      "\n"
     ]
    }
   ],
   "source": [
    "v=input(\"Saisir le nom d'une célébrité ou une information la concernant: \")\n",
    "print()\n",
    "if v in célébrités.keys():\n",
    "    print(identité(célébrités,v))\n",
    "elif cle_de_valeur(célébrités,v)!=[]:\n",
    "    celebrite=cle_de_valeur(célébrités,v)\n",
    "    for nom in celebrite:\n",
    "        print(identité(célébrités,nom))\n",
    "else:\n",
    "    print(\"Aucune occurence n'a été trouvée pour\",v)"
   ]
  },
  {
   "cell_type": "markdown",
   "metadata": {},
   "source": [
    "12. Pour aller plus loin, on traitera aussi les cas ou rien n’est trouvé\n",
    "    et également en prenant compte de la syntaxe utilisée (majuscules\n",
    "    ou non)."
   ]
  },
  {
   "cell_type": "markdown",
   "metadata": {},
   "source": [
    "13. Améliorer le code pour gérer les éventuelles erreurs dues à une\n",
    "    mauvaise saisie."
   ]
  },
  {
   "cell_type": "code",
   "execution_count": 15,
   "metadata": {},
   "outputs": [
    {
     "name": "stdout",
     "output_type": "stream",
     "text": [
      "Nom de la célébrité à ajouter :\n",
      "Pays de naissance de la célébrité :\n",
      "Date de naissance de la célébrité :\n",
      "Date de décès de la célébrité :\n",
      "Activité professionnelle de la célébrité :\n"
     ]
    }
   ],
   "source": [
    "saisir(célébrités)"
   ]
  },
  {
   "cell_type": "code",
   "execution_count": 30,
   "metadata": {},
   "outputs": [],
   "source": [
    "célébrités=[{'nom':'zidane','nationalité':'france','naissance':'1972','décès':'','sport':'football'},\\\n",
    " {'nom':'parker','nationalité':'france','naissance':'1982','décès':'','sport':'basket'},\\\n",
    " {'nom':'mohamed ali','nationalité':'Etats-Unis','naissance':'1942','décès':'2016','sport':'boxe'},\\\n",
    " {'nom':'pelé','nationalité':'Brésil','naissance':'1940','décès':'','sport':'football'},\\\n",
    " {'nom':'jordan','nationalité':'Etats-Unis','naissance':'1963','décès':'','sport':'basket'}]"
   ]
  },
  {
   "cell_type": "code",
   "execution_count": 31,
   "metadata": {},
   "outputs": [
    {
     "name": "stdout",
     "output_type": "stream",
     "text": [
      "zidane\n"
     ]
    }
   ],
   "source": [
    "print(célébrités[0][\"nom\"])"
   ]
  },
  {
   "cell_type": "code",
   "execution_count": 32,
   "metadata": {},
   "outputs": [
    {
     "name": "stdout",
     "output_type": "stream",
     "text": [
      "parker\n"
     ]
    }
   ],
   "source": [
    "print(célébrités[1][\"nom\"])"
   ]
  },
  {
   "cell_type": "code",
   "execution_count": 33,
   "metadata": {},
   "outputs": [
    {
     "name": "stdout",
     "output_type": "stream",
     "text": [
      "zidane\n",
      "parker\n",
      "mohamed ali\n",
      "pelé\n",
      "jordan\n"
     ]
    }
   ],
   "source": [
    "for i in range(len(célébrités)):\n",
    "    print(célébrités[i][\"nom\"])"
   ]
  },
  {
   "cell_type": "code",
   "execution_count": 44,
   "metadata": {},
   "outputs": [],
   "source": [
    "def nom(c):\n",
    "    liste=[]\n",
    "    for i in range(len(c)):\n",
    "        liste.append(c[i][\"nom\"])\n",
    "    return liste"
   ]
  },
  {
   "cell_type": "code",
   "execution_count": 53,
   "metadata": {},
   "outputs": [
    {
     "data": {
      "text/plain": [
       "['zidane', 'parker', 'mohamed ali', 'pelé', 'jordan']"
      ]
     },
     "execution_count": 53,
     "metadata": {},
     "output_type": "execute_result"
    }
   ],
   "source": [
    "nom(célébrités)"
   ]
  },
  {
   "cell_type": "code",
   "execution_count": 54,
   "metadata": {},
   "outputs": [],
   "source": [
    "def pratique(c,sport):\n",
    "    liste=[]\n",
    "    for i in range(len(c)):\n",
    "        if c[i][\"sport\"]==sport:\n",
    "            liste.append(c[i][\"nom\"])\n",
    "    return liste"
   ]
  },
  {
   "cell_type": "code",
   "execution_count": 55,
   "metadata": {},
   "outputs": [
    {
     "data": {
      "text/plain": [
       "['parker', 'jordan']"
      ]
     },
     "execution_count": 55,
     "metadata": {},
     "output_type": "execute_result"
    }
   ],
   "source": [
    "pratique(célébrités,\"basket\")"
   ]
  },
  {
   "cell_type": "code",
   "execution_count": 57,
   "metadata": {},
   "outputs": [],
   "source": [
    "def ma_célébrité(c,nom):\n",
    "    for i in range(len(c)):\n",
    "        if c[i][\"nom\"]==nom:\n",
    "            return c[i]"
   ]
  },
  {
   "cell_type": "code",
   "execution_count": 59,
   "metadata": {
    "scrolled": false
   },
   "outputs": [
    {
     "data": {
      "text/plain": [
       "{'nom': 'parker',\n",
       " 'nationalité': 'france',\n",
       " 'naissance': '1982',\n",
       " 'décès': '',\n",
       " 'sport': 'basket'}"
      ]
     },
     "execution_count": 59,
     "metadata": {},
     "output_type": "execute_result"
    }
   ],
   "source": [
    "ma_célébrité(célébrités,\"parker\")"
   ]
  },
  {
   "cell_type": "code",
   "execution_count": 65,
   "metadata": {},
   "outputs": [],
   "source": [
    "def mon_age(dico):\n",
    "    if dico[\"décès\"]!=\"\":\n",
    "        return str(eval(dico[\"décès\"])-eval(dico[\"naissance\"]))\n",
    "    else:\n",
    "        return str(2020-eval(dico[\"naissance\"]))"
   ]
  },
  {
   "cell_type": "code",
   "execution_count": 68,
   "metadata": {},
   "outputs": [],
   "source": [
    "def mon_identité(dico):\n",
    "    info=\"Pays de naissance de \"+dico[\"nom\"].capitalize()+\" : \"+dico[\"nationalité\"]+\".\\n\"\n",
    "    info=info+\"Année de naissance: \"+dico[\"naissance\"]+\".\\n\"\n",
    "    if dico[\"décès\"]=='':\n",
    "        info=info+\"Son âge aujourdhui est \"+str(mon_age(dico))+\" ans.\\n\"\n",
    "    else:\n",
    "        info=info+dico[\"nom\"]+\" est décédé et à l'âge de \"+str(mon_age(dico))+\" ans.\\n\"\n",
    "    info=info+\"L'activité professionnelle de \"+dico[\"nom\"].capitalize()+\" est le \"+dico[\"sport\"]+\".\\n\"\n",
    "    return info"
   ]
  },
  {
   "cell_type": "code",
   "execution_count": 84,
   "metadata": {},
   "outputs": [
    {
     "name": "stdout",
     "output_type": "stream",
     "text": [
      "Saisir le nom d'une célébrité ou une information la concernant: zidane\n",
      "\n",
      "Pays de naissance de Zidane : france.\n",
      "Année de naissance: 1972.\n",
      "Son âge aujourdhui est 48 ans.\n",
      "L'activité professionnelle de Zidane est le football.\n",
      "\n"
     ]
    }
   ],
   "source": [
    "v=input(\"Saisir le nom d'une célébrité ou une information la concernant: \")\n",
    "print()\n",
    "n=0\n",
    "for i in range(len(célébrités)):\n",
    "    if v in célébrités[i][\"nom\"]:\n",
    "        n=n+1\n",
    "        print(mon_identité(célébrités[i]))\n",
    "    elif v in célébrités[i].values():\n",
    "        n=n+1\n",
    "        print(mon_identité(célébrités[i]))\n",
    "if n==0 :\n",
    "    print(\"Aucune occurrence trouvée pour\",v)"
   ]
  },
  {
   "cell_type": "code",
   "execution_count": 76,
   "metadata": {},
   "outputs": [
    {
     "data": {
      "text/plain": [
       "dict_values(['zidane', 'france', '1972', '', 'football'])"
      ]
     },
     "execution_count": 76,
     "metadata": {},
     "output_type": "execute_result"
    }
   ],
   "source": [
    "célébrités[0].values()"
   ]
  },
  {
   "cell_type": "code",
   "execution_count": null,
   "metadata": {},
   "outputs": [],
   "source": []
  }
 ],
 "metadata": {
  "kernelspec": {
   "display_name": "Python 3",
   "language": "python",
   "name": "python3"
  },
  "language_info": {
   "codemirror_mode": {
    "name": "ipython",
    "version": 3
   },
   "file_extension": ".py",
   "mimetype": "text/x-python",
   "name": "python",
   "nbconvert_exporter": "python",
   "pygments_lexer": "ipython3",
   "version": "3.8.2"
  },
  "latex_envs": {
   "LaTeX_envs_menu_present": false,
   "autoclose": false,
   "autocomplete": false,
   "bibliofile": "biblio.bib",
   "cite_by": "apalike",
   "current_citInitial": 1,
   "eqLabelWithNumbers": false,
   "eqNumInitial": 1,
   "hotkeys": {
    "equation": "Ctrl-E",
    "itemize": "Ctrl-I"
   },
   "labels_anchors": false,
   "latex_user_defs": false,
   "report_style_numbering": false,
   "user_envs_cfg": false
  }
 },
 "nbformat": 4,
 "nbformat_minor": 2
}
