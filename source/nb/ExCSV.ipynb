{
 "cells": [
  {
   "cell_type": "code",
   "execution_count": 38,
   "metadata": {
    "scrolled": true
   },
   "outputs": [
    {
     "name": "stdout",
     "output_type": "stream",
     "text": [
      "['rang', 'titre', 'réalisateur', 'année de sortie', 'nationalité1', 'entrées (millions)2']\n",
      "['1', 'Titanic', 'J. Cameron', '1998', 'US', '21,78']\n",
      "['2', \"Bienvenue chez les Ch'tis\", 'D. Boon', '2008', 'FR', '20,44']\n",
      "['3', 'Intouchables', 'E. Tolédano, O. Nakache', '2011', 'FR', '19,51']\n",
      "['4', 'La Grande Vadrouille', 'G. Oury', '1966', 'FR/GB', '17,33']\n",
      "['5', 'Autant en emporte le vent', 'V. Fleming', '1950', 'US', '16,73']\n",
      "['6', \"Il était une fois dans l'Ouest\", 'S. Leone', '1969', 'IT', '14,89']\n",
      "['7', 'Le Livre de la jungle', 'W. Reitherman', '1968', 'US', '14,79']\n",
      "['8', 'Avatar', 'J. Cameron', '2009', 'US', '14,78']\n",
      "['9', 'Les 101 Dalmatiens', 'W. Disney', '1961', 'US', '14,70']\n",
      "['10', 'Astérix et Obélix : mission Cléopâtre', 'A. Chabat', '2002', 'FR', '14,41']\n",
      "['11', 'Les Dix Commandements', 'C.B. DeMille', '1958', 'US', '14,24']\n",
      "['12', 'Ben Hur', 'W. Wyler', '1960', 'US', '13,86']\n",
      "['13', 'Les Visiteurs', 'J.M. Poiré', '1993', 'FR', '13,67']\n",
      "['14', 'Le Pont de la rivière Kwai', 'D. Lean', '1957', 'GB', '13,48']\n",
      "['15', 'Cendrillon', 'W. Disney', '1950', 'US', '13,27']\n",
      "['16', 'Le Petit Monde de Don Camillo', 'J. Duvivier', '1952', 'IT/FR', '12,79']\n",
      "['17', 'Les Aristochats', 'W. Reitherman', '1971', 'US', '12,72']\n",
      "['18', \"Qu'est-ce qu'on a fait au bon dieu ?\", 'P. De Chauveron', '2014', 'FR', '12,36']\n",
      "['19', 'Le Jour le plus long', 'Collectif', '1962', 'US', '11,93']\n",
      "['20', 'Le Corniaud', 'G. Oury', '1965', 'FR/IT', '11,74']\n",
      "['21', 'La Belle et le clochard', 'W. Disney', '1955', 'US', '11,25']\n",
      "['22', 'Le Roi lion', 'R. Aller, R. Minkoff', '1994', 'US', '10,74']\n",
      "['23', 'Bambi', 'W. Disney', '1948', 'US', '10,71']\n",
      "['24', 'Star Wars : Episode 7, le reveil de la force', 'J. J. Abrams', '2015', 'US', '10,33']\n",
      "['25', 'Taxi 2', 'G. Krawczyk', '2000', 'FR', '10,30']\n",
      "['26', 'Trois hommes et un couffin', 'C. Serreau', '1985', 'FR', '10,25']\n",
      "['27', 'Les Bronzés 3 - amis pour la vie', 'P. Leconte', '2006', 'FR', '10,23']\n",
      "['28', 'Les Canons de Navarone', 'J. Lee Thompson', '1961', 'US', '10,18']\n",
      "['29', 'La Guerre des boutons', 'Y. Robert', '1962', 'FR', '10,04']\n",
      "['30', 'Les Misérables', 'J.P. Le Chanois, J.P. Dreyfus', '1958', 'FR/IT', '9,97']\n",
      "['31', 'Docteur Jivago', 'D. Lean', '1966', 'US', '9,82']\n",
      "['32', \"E.T. l'extra-terrestre\", 'S. Spielberg', '1982', 'US', '9,72']\n",
      "['33', 'Vingt mille lieues sous les mers', 'R. Fleischer', '1955', 'US', '9,63']\n",
      "['34', \"Harry Potter à l'école des sorciers\", 'C. Colombus', '2001', 'US', '9,51']\n",
      "['35', 'Sous le plus grand chapiteau du monde', 'C.B. DeMille', '1953', 'US', '9,49']\n",
      "['36', 'Le Monde de Nemo', 'A. Stanton, L. Unkrich', '2003', 'US', '9,44']\n",
      "['37', 'Le Dîner de cons', 'F. Veber', '1998', 'FR', '9,25']\n",
      "['38', 'Le Grand Bleu', 'L. Besson', '1988', 'FR', '9,20']\n",
      "['39', \"L'Ours\", 'J.J. Annaud', '1988', 'FR', '9,14']\n",
      "['40', 'Emmanuelle', 'J. Jaeckin', '1974', 'FR', '8,89']\n",
      "['41', 'La Vache et le prisonnier', 'H. Verneuil', '1959', 'FR/IT', '8,85']\n",
      "['42', 'Harry Potter et la chambre des secrets', 'C. Colombus', '2002', 'US', '8,84']\n",
      "['43', 'Astérix et Obélix contre César', 'C. Zidi', '1999', 'FR/DE/IT', '8,78']\n",
      "['44', 'West Side Story', 'R. Wise, J. Robbins', '1962', 'US', '8,77']\n",
      "['45', 'La Grande Evasion', 'R. Walsh', '1963', 'US', '8,76']\n",
      "['46', 'Le Bataillon du ciel', 'A. Esway', '1947', 'FR', '8,65']\n",
      "['47', \"Le Fabuleux Destin d'Amélie Poulain\", 'J.P. Jeunet', '2001', 'FR/DE', '8,53']\n",
      "['48', 'Les Choristes', 'C. Barratier', '2004', 'FR/CH', '8,47']\n",
      "['49', 'Le Dictateur', 'C. Chaplin', '1945', 'US', '8,40']\n",
      "['50', 'Pour qui sonne le glas ?', 'S. Wood', '1947', 'US', '8,27']\n",
      "['51', 'Rien à déclarer', 'D. Boon', '2011', 'FR/BE', '8,14']\n",
      "['52', 'Violettes impériales', 'R. Pottier', '1952', 'FR/ES', '8,13']\n",
      "['53', 'Les Couloirs du temps - les visiteurs 2', 'J.M. Poiré', '1998', 'FR', '8,04']\n",
      "['54', 'Le Boulanger de Valorgue', 'H. Verneuil', '1953', 'FR', '7,89']\n",
      "['55', 'Un Indien dans la ville', 'H. Palud', '1994', 'FR', '7,89']\n",
      "['56', 'Pinocchio', 'W. Disney', '1946', 'US', '7,85']\n",
      "['57', \"L'Âge de glace 3 - le temps des dinosaures\", 'C. Saldanha', '2009', 'US', '7,84']\n",
      "['58', 'Star Wars : épisode 1 - la menace fantôme', 'G. Lucas', '1999', 'US', '7,84']\n",
      "['59', 'Tarzan', 'C. Buck, K. Lima', '1999', 'US', '7,82']\n",
      "['60', 'Le Gendarme de Saint-Tropez', 'J. Girault', '1964', 'FR/IT', '7,81']\n",
      "['61', 'Le Comte de Monte Cristo', 'R. Vernay', '1955', 'FR/IT', '7,78']\n",
      "['62', 'Sixième Sens', 'M. Night Shyamalan', '2000', 'US', '7,74']\n",
      "['63', 'Ratatouille', 'B. Bird, J. Pinkava', '2007', 'US', '7,72']\n",
      "['64', 'Le Cinquième Elément', 'L. Besson', '1997', 'FR', '7,71']\n",
      "['65', 'Harry Potter et la coupe de feu', 'M. Newell', '2005', 'GB', '7,71']\n",
      "['66', 'la famille Bélier', 'É. Lartigau', '2014', 'FR', '7,70']\n",
      "['67', 'Orange mécanique', 'S. Kubrick', '1972', 'GB', '7,63']\n",
      "['68', 'Les Bidasses en folie', 'C. Zidi', '1971', 'FR', '7,46']\n",
      "['69', 'Le Retour de Don Camillo', 'J. Duvivier', '1953', 'IT/FR', '7,43']\n",
      "['70', 'La Vérité si je mens 2', 'T. Gilou', '2001', 'FR', '7,41']\n",
      "['71', 'Le Seigneur des anneaux - le retour du roi', 'P. Jackson', '2003', 'NZ', '7,40']\n",
      "['72', 'Jour de fête', 'J. Tati', '1949', 'FR', '7,37']\n",
      "['73', 'Aladdin', 'J. Musker', '1993', 'US', '7,35']\n",
      "['74', 'Les Aventures de Peter Pan', 'W. Disney', '1953', 'US', '7,34']\n",
      "['75', 'Les Aventures de Rabbi Jacob', 'G. Oury', '1973', 'FR/IT', '7,30']\n",
      "['76', 'Danse avec les loups', 'K. Costner', '1991', 'US', '7,28']\n",
      "['77', 'Les Aventures de Bernard et Bianca', 'Collectif', '1977', 'US', '7,24']\n",
      "['78', 'Jean de Florette', 'C. Berri', '1986', 'FR', '7,22']\n",
      "['79', 'Star Wars : épisode 3 - la revanche des Sith', 'G. Lucas', '2005', 'US', '7,21']\n",
      "['80', 'Shrek 2', 'A. Adamson, V. Jenson', '2004', 'US', '7,14']\n",
      "['81', \"Harry Potter et le prisonnier d'Azkaban\", 'A. Cuaron', '2004', 'GB', '7,13']\n",
      "['82', 'Samson et Dalila', 'C.B. DeMille', '1951', 'US', '7,12']\n",
      "['83', 'Le Seigneur des anneaux - les deux tours', 'P. Jackson', '2002', 'NZ', '7,11']\n",
      "['84', \"Jeanne d'Arc\", 'V. Fleming', '1949', 'US', '7,09']\n",
      "['85', 'La Chèvre', 'F. Veber', '1981', 'FR/MX', '7,08']\n",
      "['86', 'Star Wars les derniers Jedi', 'R. Johnson', '2017', 'US', '7,08']\n",
      "['87', 'Monsieur Vincent', 'M. Cloche', '1947', 'FR', '7,06']\n",
      "['88', 'Les Sept Mercenaires', 'J. Sturges', '1961', 'US', '7,04']\n",
      "['89', 'Skyfall', 'S. Mendes', '2012', 'GB', '7,00']\n",
      "['90', \"Le Seigneur des anneaux - la communauté de l'anneau\", 'P. Jackson', '2001', 'NZ', '6,99']\n",
      "['91', \"Si Versailles m'était conté\", 'S. Guitry', '1954', 'FR', '6,99']\n",
      "['92', 'Les Grandes Vacances', 'J. Girault', '1967', 'FR/IT', '6,99']\n",
      "['93', 'Le Salaire de la peur', 'H.G. Clouzot', '1953', 'FR/IT', '6,95']\n",
      "['94', 'Michel Strogoff', 'C. Gallone', '1956', 'FR/IT', '6,87']\n",
      "['95', 'Le Gendarme se marie', 'J. Girault', '1968', 'FR/IT', '6,83']\n",
      "['96', 'Le Bossu de Notre-Dame', 'K. Wise, G. Trousdale', '1996', 'US', '6,81']\n",
      "['97', 'Astérix aux Jeux Olympiques', 'F. Forestier, T. Langmann', '2008', 'FR/DE/ES/IT', '6,81']\n",
      "['98', 'Mission spéciale', 'M. de Canonge', '1946', 'FR', '6,78']\n",
      "['99', 'Jurassic Park', 'S. Spielberg', '1993', 'US', '6,74']\n",
      "['100', 'Fanfan la Tulipe', 'Christian-Jaque', '1952', 'FR/IT', '6,74']\n",
      "['101', \"L'Exorciste\", 'W. Friedkin', '1974', 'US', '6,72']\n",
      "['102', 'Rox et Rouky', 'A. Stevens', '1981', 'US', '6,72']\n",
      "['103', 'Goldfinger', 'G. Hamilton', '1965', 'GB', '6,68']\n",
      "['104', 'Les Trois Frères', 'D. Bourdon, B. Campan', '1995', 'FR', '6,67']\n",
      "['105', 'les Minions', 'P. Coffin, K. Balda', '2015', 'US', '6,66']\n",
      "['106', 'Nous irons à Paris', 'J. Boyer', '1950', 'FR', '6,66']\n",
      "['107', 'Manon des sources', 'C. Berri', '1986', 'FR', '6,65']\n",
      "['108', \"l'Age de glace 4 : la dérive des continents\", 'M.Thurmeier, S. Martino', '2012', 'US', '6,64']\n",
      "['109', 'Sissi', 'E. Marischka', '1956', 'AT', '6,64']\n",
      "['110', \"L'Age de glace 2\", 'C. Saldanha', '2006', 'US', '6,63']\n",
      "['111', 'Le Cercle des poètes disparus', 'P. Weir', '1989', 'US', '6,60']\n",
      "['112', 'La Belle au bois dormant', 'W. Disney', '1959', 'US', '6,59']\n",
      "['113', 'Harry Potter et les reliques de la mort - 2e partie', 'D. Yates', '2011', 'GB', '6,56']\n",
      "['114', 'Pirates des Caraïbes - le secret du coffre maudit', 'G. Verbinski', '2006', 'US', '6,52']\n",
      "['115', 'Taxi', 'G. Pires', '1998', 'FR', '6,49']\n",
      "['116', 'Robin des bois', 'W. Reitherman', '1974', 'US', '6,48']\n",
      "['117', 'Rain Man', 'B. Levinson', '1989', 'US', '6,48']\n",
      "['118', 'La Guerre des étoiles', 'G. Lucas', '1977', 'US', '6,46']\n",
      "['119', 'Sissi impératrice', 'E. Marischka', '1957', 'AT', '6,43']\n",
      "['120', \"Les Aventuriers de l'arche perdue\", 'S. Spielberg', '1981', 'US', '6,40']\n",
      "['121', \"Tant qu'il y aura des hommes\", 'F. Zinnemann', '1954', 'US', '6,40']\n",
      "['122', 'Arthur et les Minimoys', 'L. Besson', '2006', 'FR', '6,40']\n",
      "['123', 'La Cuisine au beurre', 'G. Grangier', '1963', 'FR/IT', '6,40']\n",
      "['124', 'Spider-Man', 'S. Raimi', '2002', 'US', '6,38']\n",
      "['125', 'La Symphonie pastorale', 'J. Delannoy', '1946', 'FR', '6,37']\n",
      "['126', 'Ivanhoé', 'R. Thorpe', '1952', 'US', '6,36']\n",
      "['127', 'Le Bon, la brute et le truand', 'S. Leone', '1968', 'IT', '6,35']\n",
      "['128', 'Spider-Man 3', 'S. Raimi', '2007', 'US', '6,32']\n",
      "['129', 'Les Dents de la mer', 'S. Spielberg', '1976', 'US', '6,32']\n",
      "['130', 'Quo Vadis', 'M. Le Roy', '1953', 'US', '6,31']\n",
      "['131', 'La Gloire de mon père', 'Y. Robert', '1990', 'FR', '6,30']\n",
      "['132', 'Le Gendarme et les extra-terrestres', 'J. Girault', '1979', 'FR', '6,28']\n",
      "['133', 'Indiana Jones et la dernière croisade', 'S. Spielberg', '1989', 'US', '6,26']\n",
      "['134', \"Harry Potter et l'ordre du Phénix\", 'D. Yates', '2007', 'GB', '6,21']\n",
      "['135', \"Marche à l'ombre\", 'M. Blanc', '1984', 'FR', '6,17']\n",
      "['136', 'Pas si bête', 'A. Berthomieu', '1946', 'FR', '6,17']\n",
      "['137', \"Merlin l'enchanteur\", 'W. Reitherman', '1964', 'US', '6,16']\n",
      "['138', 'La Chartreuse de Parme', 'Christian-Jaque', '1948', 'FR', '6,15']\n",
      "['139', 'Germinal', 'C. Berri', '1993', 'FR/BE', '6,15']\n",
      "['140', 'Le Père tranquille', 'R. Clément', '1946', 'FR', '6,14']\n",
      "['141', 'Les Feux de la rampe', 'C. Chaplin', '1952', 'US', '6,14']\n",
      "['142', 'Harry Potter et le Prince de sang-mêlé', 'D. Yates', '2009', 'GB', '6,14']\n",
      "['143', 'Oscar', 'E. Molinaro', '1967', 'FR', '6,12']\n",
      "['144', 'Taxi 3', 'G. Krawczyk', '2003', 'FR', '6,11']\n",
      "['145', 'Harry Potter et les reliques de la mort - 1re partie', 'D. Yates', '2010', 'GB', '6,09']\n",
      "['146', 'Terminator 2 - le jugement dernier', 'J. Cameron', '1991', 'US', '6,01']\n",
      "['147', 'Midnight Express', 'A. Parker', '1978', 'GB', '5,97']\n",
      "['148', 'Les Dieux sont tombés sur la tête', 'J. Uys', '1983', 'ZA', '5,95']\n",
      "['149', \"Mourir d'aimer\", 'A. Cayatte', '1971', 'FR/IT', '5,91']\n",
      "['150', 'Qui veut la peau de Roger Rabbit ?', 'R. Zemeckis', '1988', 'US', '5,91']\n",
      "['151', 'Crocodile Dundee', 'P. Faiman', '1987', 'AU', '5,89']\n",
      "['152', 'Guerre et Paix', 'K. Vidor', '1956', 'US', '5,89']\n",
      "['153', 'Les Ripoux', 'C. Zidi', '1984', 'FR', '5,88']\n",
      "['154', \"L'Odyssée du Docteur Wassel\", 'C.B. DeMille', '1946', 'US', '5,87']\n",
      "['155', 'Rambo 2 - la mission', 'G.P. Cosmatos', '1985', 'US', '5,85']\n",
      "['156', 'Le Bossu', 'A. Hunebelle', '1959', 'FR/IT', '5,85']\n",
      "['157', \"L'Aile ou la Cuisse\", 'C. Zidi', '1976', 'FR', '5,84']\n",
      "['158', 'Sissi face à son destin', 'E. Marischka', '1958', 'AT', '5,79']\n",
      "['159', 'Quatre mariages et un enterrement', 'M. Newell', '1994', 'GB', '5,78']\n",
      "['160', 'Mulan', 'T. Bancroft, B. Cook', '1998', 'US', '5,78']\n",
      "['161', 'Men in Black', 'B. Sonnenfeld', '1997', 'US', '5,76']\n",
      "['162', 'Le train sifflera trois fois', 'F. Zinnemann', '1952', 'US', '5,76']\n",
      "['163', 'Moi, moche et méchant 3', 'K. Balda, P. Coffin, E. Guillon', '2017', 'US', '5,75']\n",
      "['164', 'Les Fous du stade', 'C. Zidi', '1972', 'FR', '5,74']\n",
      "['165', 'Les Vacances de Monsieur Hulot', 'J. Tati', '1953', 'FR', '5,74']\n",
      "['166', 'Le Troisième Homme', 'C. Reed', '1949', 'GB', '5,74']\n",
      "['167', 'Grease', 'R. Kleiser', '1978', 'US', '5,74']\n",
      "['168', 'Les Indestructibles 2', 'B. Brad', '2018', 'US', '5,74']\n",
      "['169', 'Opération tonnerre', 'T. Young', '1965', 'GB', '5,74']\n",
      "['170', 'Andalousie', 'R. Vernay', '1951', 'FR/ES', '5,74']\n",
      "['171', 'Les Anges gardiens', 'J.M. Poiré', '1995', 'FR', '5,73']\n",
      "['172', 'Les Valseuses', 'B. Blier', '1974', 'FR', '5,73']\n",
      "['173', 'La Bataille du rail', 'R. Clément', '1946', 'FR', '5,73']\n",
      "['174', \"Lawrence d'Arabie\", 'D. Lean', '1963', 'GB', '5,72']\n",
      "['175', 'A nous les petites Anglaises', 'M. Lang', '1976', 'FR', '5,70']\n",
      "['176', 'La Vérité', 'H.G. Clouzot', '1960', 'FR/IT', '5,70']\n",
      "['177', 'Notre-Dame de Paris', 'J. Delannoy', '1956', 'FR/IT', '5,70']\n",
      "['178', 'Indiana Jones et le temple maudit', 'S. Spielberg', '1984', 'US', '5,69']\n",
      "['179', 'Les Tuche 3', 'O. Baroux', '2018', 'FR', '5,69']\n",
      "['180', 'Matrix Reloaded', 'L. Wachowski, A. Wachowski', '2003', 'US', '5,66']\n",
      "['181', \"Pirates des Caraïbes - jusqu'au bout du monde\", 'G. Verbinski', '2007', 'US', '5,64']\n",
      "['182', 'Pocahontas, une légende indienne', 'M. Gabriel, E. Goldberg', '1995', 'US', '5,63']\n",
      "['183', 'Bons baisers de Russie', 'T. Young', '1964', 'GB', '5,63']\n",
      "['184', \"Star Wars : épisode 2 - l'attaque des clones\", 'G. Lucas', '2002', 'US', '5,62']\n",
      "['185', \"La Ch'tite Famille\", 'D. Boon', '2018', 'FR', '5,62']\n",
      "['186', 'Le Petit Nicolas', 'L. Tirard', '2009', 'FR/BE', '5,62']\n",
      "['187', 'Independence Day', 'R. Emmerich', '1996', 'US', '5,61']\n",
      "['188', 'La Folie des grandeurs', 'G. Oury', '1971', 'FR/DE/ES', '5,57']\n",
      "['189', 'Quai des Orfèvres', 'H.G. Clouzot', '1947', 'FR', '5,56']\n",
      "['190', 'Le Cerveau', 'G. Oury', '1969', 'FR/IT', '5,55']\n",
      "['191', 'Vaïana, la légende du bout du monde', 'J. Musker, R. Clements', '2016', 'US', '5,55']\n",
      "['192', 'Le Petit Baigneur', 'R. Dhéry', '1968', 'FR/IT', '5,54']\n",
      "['193', 'Shrek le troisième', 'C. Miller', '2007', 'US', '5,54']\n",
      "['194', 'Love Story', 'A. Hiller', '1971', 'US', '5,51']\n",
      "['195', 'Les Indestructibles', 'B. Bird', '2004', 'US', '5,50']\n",
      "['196', 'Le Gendarme à New-York', 'J. Girault', '1965', 'FR/IT', '5,50']\n",
      "['197', 'Camping', 'F. Onteniente', '2006', 'FR', '5,48']\n",
      "['198', 'Les Petits Mouchoirs', 'G. Canet', '2010', 'FR', '5,46']\n",
      "['199', \"L'As des as\", 'G. Oury', '1982', 'FR/DE', '5,45']\n",
      "['200', 'Le Bal des sirènes', 'G. Sidney', '1946', 'US', '5,44']\n"
     ]
    }
   ],
   "source": [
    "with open('csv/MEC.csv','r') as f:\n",
    "    # Création de la table sous forme de liste\n",
    "    table = csv.reader(f,delimiter=\";\")\n",
    "    for ligne in table:\n",
    "        print(ligne)"
   ]
  },
  {
   "cell_type": "code",
   "execution_count": 39,
   "metadata": {},
   "outputs": [
    {
     "name": "stdout",
     "output_type": "stream",
     "text": [
      "Il y a 87 films US dans la table.\n"
     ]
    }
   ],
   "source": [
    "import csv\n",
    "\n",
    "with open('csv/MEC.csv','r') as f:\n",
    "    table = csv.reader(f,delimiter=\";\")\n",
    "    titreUS=[]\n",
    "    for ligne in table:\n",
    "        if ligne[4]=='US':\n",
    "            titreUS.append(ligne[1])\n",
    "    print('Il y a',len(titreUS),'films US dans la table.')"
   ]
  },
  {
   "cell_type": "code",
   "execution_count": 53,
   "metadata": {
    "scrolled": true
   },
   "outputs": [
    {
     "name": "stdout",
     "output_type": "stream",
     "text": [
      "Bienvenue chez les Ch'tis\n",
      "Intouchables\n",
      "Astérix et Obélix : mission Cléopâtre\n",
      "Les Visiteurs\n",
      "Qu'est-ce qu'on a fait au bon dieu ?\n",
      "Taxi 2\n",
      "Trois hommes et un couffin\n",
      "Les Bronzés 3 - amis pour la vie\n",
      "La Guerre des boutons\n",
      "Le Dîner de cons\n",
      "Le Grand Bleu\n",
      "L'Ours\n",
      "Emmanuelle\n",
      "Le Bataillon du ciel\n",
      "Les Couloirs du temps - les visiteurs 2\n",
      "Le Boulanger de Valorgue\n",
      "Un Indien dans la ville\n",
      "Le Cinquième Elément\n",
      "la famille Bélier\n",
      "Les Bidasses en folie\n",
      "La Vérité si je mens 2\n",
      "Jour de fête\n",
      "Jean de Florette\n",
      "Monsieur Vincent\n",
      "Si Versailles m'était conté\n",
      "Mission spéciale\n",
      "Les Trois Frères\n",
      "Nous irons à Paris\n",
      "Manon des sources\n",
      "Taxi\n",
      "Arthur et les Minimoys\n",
      "La Symphonie pastorale\n",
      "La Gloire de mon père\n",
      "Le Gendarme et les extra-terrestres\n",
      "Marche à l'ombre\n",
      "Pas si bête\n",
      "La Chartreuse de Parme\n",
      "Le Père tranquille\n",
      "Oscar\n",
      "Taxi 3\n",
      "Les Ripoux\n",
      "L'Aile ou la Cuisse\n",
      "Les Fous du stade\n",
      "Les Vacances de Monsieur Hulot\n",
      "Les Anges gardiens\n",
      "Les Valseuses\n",
      "La Bataille du rail\n",
      "A nous les petites Anglaises\n",
      "Les Tuche 3\n",
      "La Ch'tite Famille\n",
      "Quai des Orfèvres\n",
      "Camping\n",
      "Les Petits Mouchoirs\n"
     ]
    }
   ],
   "source": [
    "with open('csv/MEC.csv','r') as f:\n",
    "    table = csv.reader(f,delimiter=\";\")\n",
    "    liste=[]\n",
    "    for ligne in table:\n",
    "        if ligne[4]=='FR':\n",
    "            liste.append(ligne[1])\n",
    "    for i in range(len(liste)):\n",
    "        print(liste[i])"
   ]
  },
  {
   "cell_type": "code",
   "execution_count": 3,
   "metadata": {},
   "outputs": [
    {
     "name": "stdout",
     "output_type": "stream",
     "text": [
      "['25', 'Taxi 2', 'G. Krawczyk', '2000', 'FR', '10,30']\n"
     ]
    }
   ],
   "source": [
    "import csv\n",
    "\n",
    "# Ouverture du fichier csv MEC.csv\n",
    "with open('csv/MEC.csv','r') as f:\n",
    "    table = csv.reader(f,delimiter=\";\")\n",
    "    for ligne in table:\n",
    "        if ligne[0]=='25':\n",
    "            print(ligne)"
   ]
  },
  {
   "cell_type": "code",
   "execution_count": 79,
   "metadata": {},
   "outputs": [],
   "source": [
    "def film_par_pays(pays):\n",
    "    with open('csv/MEC.csv','r') as f:\n",
    "        table = csv.reader(f,delimiter=\";\")\n",
    "        liste=[]\n",
    "        for ligne in table:\n",
    "            if ligne[4]==pays:\n",
    "                liste.append(ligne[1])\n",
    "        return liste"
   ]
  },
  {
   "cell_type": "code",
   "execution_count": 81,
   "metadata": {},
   "outputs": [
    {
     "data": {
      "text/plain": [
       "['Le Pont de la rivière Kwai',\n",
       " 'Harry Potter et la coupe de feu',\n",
       " 'Orange mécanique',\n",
       " \"Harry Potter et le prisonnier d'Azkaban\",\n",
       " 'Skyfall',\n",
       " 'Goldfinger',\n",
       " 'Harry Potter et les reliques de la mort - 2e partie',\n",
       " \"Harry Potter et l'ordre du Phénix\",\n",
       " 'Harry Potter et le Prince de sang-mêlé',\n",
       " 'Harry Potter et les reliques de la mort - 1re partie',\n",
       " 'Midnight Express',\n",
       " 'Quatre mariages et un enterrement',\n",
       " 'Le Troisième Homme',\n",
       " 'Opération tonnerre',\n",
       " \"Lawrence d'Arabie\",\n",
       " 'Bons baisers de Russie']"
      ]
     },
     "execution_count": 81,
     "metadata": {},
     "output_type": "execute_result"
    }
   ],
   "source": [
    "film_par_pays(\"GB\")"
   ]
  },
  {
   "cell_type": "code",
   "execution_count": 54,
   "metadata": {},
   "outputs": [],
   "source": [
    "import csv\n",
    "\n",
    "# Ouverture du fichier csv MEC.csv\n",
    "with open('csv/MEC.csv','r') as f:\n",
    "    table = list(csv.reader(f,delimiter=\";\"))"
   ]
  },
  {
   "cell_type": "code",
   "execution_count": 57,
   "metadata": {},
   "outputs": [
    {
     "name": "stdout",
     "output_type": "stream",
     "text": [
      "Il y a 87 films US dans la table.\n"
     ]
    }
   ],
   "source": [
    "import csv\n",
    "n=0\n",
    "# Ouverture du fichier csv MEC.csv\n",
    "with open('csv/MEC.csv','r') as f:\n",
    "    table = list(csv.reader(f,delimiter=\";\"))\n",
    "    for i in range(len(table)):\n",
    "        if table[i][4]=='US':n=n+1\n",
    "    print('Il y a',n,'films US dans la table.')"
   ]
  },
  {
   "cell_type": "code",
   "execution_count": 58,
   "metadata": {
    "collapsed": true
   },
   "outputs": [
    {
     "name": "stdout",
     "output_type": "stream",
     "text": [
      "Bienvenue chez les Ch'tis\n",
      "Intouchables\n",
      "Astérix et Obélix : mission Cléopâtre\n",
      "Les Visiteurs\n",
      "Qu'est-ce qu'on a fait au bon dieu ?\n",
      "Taxi 2\n",
      "Trois hommes et un couffin\n",
      "Les Bronzés 3 - amis pour la vie\n",
      "La Guerre des boutons\n",
      "Le Dîner de cons\n",
      "Le Grand Bleu\n",
      "L'Ours\n",
      "Emmanuelle\n",
      "Le Bataillon du ciel\n",
      "Les Couloirs du temps - les visiteurs 2\n",
      "Le Boulanger de Valorgue\n",
      "Un Indien dans la ville\n",
      "Le Cinquième Elément\n",
      "la famille Bélier\n",
      "Les Bidasses en folie\n",
      "La Vérité si je mens 2\n",
      "Jour de fête\n",
      "Jean de Florette\n",
      "Monsieur Vincent\n",
      "Si Versailles m'était conté\n",
      "Mission spéciale\n",
      "Les Trois Frères\n",
      "Nous irons à Paris\n",
      "Manon des sources\n",
      "Taxi\n",
      "Arthur et les Minimoys\n",
      "La Symphonie pastorale\n",
      "La Gloire de mon père\n",
      "Le Gendarme et les extra-terrestres\n",
      "Marche à l'ombre\n",
      "Pas si bête\n",
      "La Chartreuse de Parme\n",
      "Le Père tranquille\n",
      "Oscar\n",
      "Taxi 3\n",
      "Les Ripoux\n",
      "L'Aile ou la Cuisse\n",
      "Les Fous du stade\n",
      "Les Vacances de Monsieur Hulot\n",
      "Les Anges gardiens\n",
      "Les Valseuses\n",
      "La Bataille du rail\n",
      "A nous les petites Anglaises\n",
      "Les Tuche 3\n",
      "La Ch'tite Famille\n",
      "Quai des Orfèvres\n",
      "Camping\n",
      "Les Petits Mouchoirs\n"
     ]
    }
   ],
   "source": [
    "import csv\n",
    "\n",
    "# Ouverture du fichier csv MEC.csv\n",
    "with open('csv/MEC.csv','r') as f:\n",
    "    table = list(csv.reader(f,delimiter=\";\"))\n",
    "    for i in range(len(table)):\n",
    "        if table[i][4]=='FR':\n",
    "            print(table[i][1])"
   ]
  },
  {
   "cell_type": "code",
   "execution_count": 59,
   "metadata": {},
   "outputs": [
    {
     "name": "stdout",
     "output_type": "stream",
     "text": [
      "['25', 'Taxi 2', 'G. Krawczyk', '2000', 'FR', '10,30']\n"
     ]
    }
   ],
   "source": [
    "import csv\n",
    "\n",
    "# Ouverture du fichier csv MEC.csv\n",
    "with open('csv/MEC.csv','r') as f:\n",
    "    table = list(csv.reader(f,delimiter=\";\"))\n",
    "    print(table[25])"
   ]
  },
  {
   "cell_type": "code",
   "execution_count": 66,
   "metadata": {
    "scrolled": true
   },
   "outputs": [
    {
     "name": "stdout",
     "output_type": "stream",
     "text": [
      "{'rang': '1', 'titre': 'Titanic', 'réalisateur': 'J. Cameron', 'année de sortie': '1998', 'nationalité1': 'US', 'entrées (millions)2': '21,78'}\n",
      "{'rang': '2', 'titre': \"Bienvenue chez les Ch'tis\", 'réalisateur': 'D. Boon', 'année de sortie': '2008', 'nationalité1': 'FR', 'entrées (millions)2': '20,44'}\n",
      "{'rang': '3', 'titre': 'Intouchables', 'réalisateur': 'E. Tolédano, O. Nakache', 'année de sortie': '2011', 'nationalité1': 'FR', 'entrées (millions)2': '19,51'}\n",
      "{'rang': '4', 'titre': 'La Grande Vadrouille', 'réalisateur': 'G. Oury', 'année de sortie': '1966', 'nationalité1': 'FR/GB', 'entrées (millions)2': '17,33'}\n",
      "{'rang': '5', 'titre': 'Autant en emporte le vent', 'réalisateur': 'V. Fleming', 'année de sortie': '1950', 'nationalité1': 'US', 'entrées (millions)2': '16,73'}\n",
      "{'rang': '6', 'titre': \"Il était une fois dans l'Ouest\", 'réalisateur': 'S. Leone', 'année de sortie': '1969', 'nationalité1': 'IT', 'entrées (millions)2': '14,89'}\n",
      "{'rang': '7', 'titre': 'Le Livre de la jungle', 'réalisateur': 'W. Reitherman', 'année de sortie': '1968', 'nationalité1': 'US', 'entrées (millions)2': '14,79'}\n",
      "{'rang': '8', 'titre': 'Avatar', 'réalisateur': 'J. Cameron', 'année de sortie': '2009', 'nationalité1': 'US', 'entrées (millions)2': '14,78'}\n",
      "{'rang': '9', 'titre': 'Les 101 Dalmatiens', 'réalisateur': 'W. Disney', 'année de sortie': '1961', 'nationalité1': 'US', 'entrées (millions)2': '14,70'}\n",
      "{'rang': '10', 'titre': 'Astérix et Obélix : mission Cléopâtre', 'réalisateur': 'A. Chabat', 'année de sortie': '2002', 'nationalité1': 'FR', 'entrées (millions)2': '14,41'}\n",
      "{'rang': '11', 'titre': 'Les Dix Commandements', 'réalisateur': 'C.B. DeMille', 'année de sortie': '1958', 'nationalité1': 'US', 'entrées (millions)2': '14,24'}\n",
      "{'rang': '12', 'titre': 'Ben Hur', 'réalisateur': 'W. Wyler', 'année de sortie': '1960', 'nationalité1': 'US', 'entrées (millions)2': '13,86'}\n",
      "{'rang': '13', 'titre': 'Les Visiteurs', 'réalisateur': 'J.M. Poiré', 'année de sortie': '1993', 'nationalité1': 'FR', 'entrées (millions)2': '13,67'}\n",
      "{'rang': '14', 'titre': 'Le Pont de la rivière Kwai', 'réalisateur': 'D. Lean', 'année de sortie': '1957', 'nationalité1': 'GB', 'entrées (millions)2': '13,48'}\n",
      "{'rang': '15', 'titre': 'Cendrillon', 'réalisateur': 'W. Disney', 'année de sortie': '1950', 'nationalité1': 'US', 'entrées (millions)2': '13,27'}\n",
      "{'rang': '16', 'titre': 'Le Petit Monde de Don Camillo', 'réalisateur': 'J. Duvivier', 'année de sortie': '1952', 'nationalité1': 'IT/FR', 'entrées (millions)2': '12,79'}\n",
      "{'rang': '17', 'titre': 'Les Aristochats', 'réalisateur': 'W. Reitherman', 'année de sortie': '1971', 'nationalité1': 'US', 'entrées (millions)2': '12,72'}\n",
      "{'rang': '18', 'titre': \"Qu'est-ce qu'on a fait au bon dieu ?\", 'réalisateur': 'P. De Chauveron', 'année de sortie': '2014', 'nationalité1': 'FR', 'entrées (millions)2': '12,36'}\n",
      "{'rang': '19', 'titre': 'Le Jour le plus long', 'réalisateur': 'Collectif', 'année de sortie': '1962', 'nationalité1': 'US', 'entrées (millions)2': '11,93'}\n",
      "{'rang': '20', 'titre': 'Le Corniaud', 'réalisateur': 'G. Oury', 'année de sortie': '1965', 'nationalité1': 'FR/IT', 'entrées (millions)2': '11,74'}\n",
      "{'rang': '21', 'titre': 'La Belle et le clochard', 'réalisateur': 'W. Disney', 'année de sortie': '1955', 'nationalité1': 'US', 'entrées (millions)2': '11,25'}\n",
      "{'rang': '22', 'titre': 'Le Roi lion', 'réalisateur': 'R. Aller, R. Minkoff', 'année de sortie': '1994', 'nationalité1': 'US', 'entrées (millions)2': '10,74'}\n",
      "{'rang': '23', 'titre': 'Bambi', 'réalisateur': 'W. Disney', 'année de sortie': '1948', 'nationalité1': 'US', 'entrées (millions)2': '10,71'}\n",
      "{'rang': '24', 'titre': 'Star Wars : Episode 7, le reveil de la force', 'réalisateur': 'J. J. Abrams', 'année de sortie': '2015', 'nationalité1': 'US', 'entrées (millions)2': '10,33'}\n",
      "{'rang': '25', 'titre': 'Taxi 2', 'réalisateur': 'G. Krawczyk', 'année de sortie': '2000', 'nationalité1': 'FR', 'entrées (millions)2': '10,30'}\n",
      "{'rang': '26', 'titre': 'Trois hommes et un couffin', 'réalisateur': 'C. Serreau', 'année de sortie': '1985', 'nationalité1': 'FR', 'entrées (millions)2': '10,25'}\n",
      "{'rang': '27', 'titre': 'Les Bronzés 3 - amis pour la vie', 'réalisateur': 'P. Leconte', 'année de sortie': '2006', 'nationalité1': 'FR', 'entrées (millions)2': '10,23'}\n",
      "{'rang': '28', 'titre': 'Les Canons de Navarone', 'réalisateur': 'J. Lee Thompson', 'année de sortie': '1961', 'nationalité1': 'US', 'entrées (millions)2': '10,18'}\n",
      "{'rang': '29', 'titre': 'La Guerre des boutons', 'réalisateur': 'Y. Robert', 'année de sortie': '1962', 'nationalité1': 'FR', 'entrées (millions)2': '10,04'}\n",
      "{'rang': '30', 'titre': 'Les Misérables', 'réalisateur': 'J.P. Le Chanois, J.P. Dreyfus', 'année de sortie': '1958', 'nationalité1': 'FR/IT', 'entrées (millions)2': '9,97'}\n",
      "{'rang': '31', 'titre': 'Docteur Jivago', 'réalisateur': 'D. Lean', 'année de sortie': '1966', 'nationalité1': 'US', 'entrées (millions)2': '9,82'}\n",
      "{'rang': '32', 'titre': \"E.T. l'extra-terrestre\", 'réalisateur': 'S. Spielberg', 'année de sortie': '1982', 'nationalité1': 'US', 'entrées (millions)2': '9,72'}\n",
      "{'rang': '33', 'titre': 'Vingt mille lieues sous les mers', 'réalisateur': 'R. Fleischer', 'année de sortie': '1955', 'nationalité1': 'US', 'entrées (millions)2': '9,63'}\n",
      "{'rang': '34', 'titre': \"Harry Potter à l'école des sorciers\", 'réalisateur': 'C. Colombus', 'année de sortie': '2001', 'nationalité1': 'US', 'entrées (millions)2': '9,51'}\n",
      "{'rang': '35', 'titre': 'Sous le plus grand chapiteau du monde', 'réalisateur': 'C.B. DeMille', 'année de sortie': '1953', 'nationalité1': 'US', 'entrées (millions)2': '9,49'}\n",
      "{'rang': '36', 'titre': 'Le Monde de Nemo', 'réalisateur': 'A. Stanton, L. Unkrich', 'année de sortie': '2003', 'nationalité1': 'US', 'entrées (millions)2': '9,44'}\n",
      "{'rang': '37', 'titre': 'Le Dîner de cons', 'réalisateur': 'F. Veber', 'année de sortie': '1998', 'nationalité1': 'FR', 'entrées (millions)2': '9,25'}\n",
      "{'rang': '38', 'titre': 'Le Grand Bleu', 'réalisateur': 'L. Besson', 'année de sortie': '1988', 'nationalité1': 'FR', 'entrées (millions)2': '9,20'}\n",
      "{'rang': '39', 'titre': \"L'Ours\", 'réalisateur': 'J.J. Annaud', 'année de sortie': '1988', 'nationalité1': 'FR', 'entrées (millions)2': '9,14'}\n",
      "{'rang': '40', 'titre': 'Emmanuelle', 'réalisateur': 'J. Jaeckin', 'année de sortie': '1974', 'nationalité1': 'FR', 'entrées (millions)2': '8,89'}\n",
      "{'rang': '41', 'titre': 'La Vache et le prisonnier', 'réalisateur': 'H. Verneuil', 'année de sortie': '1959', 'nationalité1': 'FR/IT', 'entrées (millions)2': '8,85'}\n",
      "{'rang': '42', 'titre': 'Harry Potter et la chambre des secrets', 'réalisateur': 'C. Colombus', 'année de sortie': '2002', 'nationalité1': 'US', 'entrées (millions)2': '8,84'}\n",
      "{'rang': '43', 'titre': 'Astérix et Obélix contre César', 'réalisateur': 'C. Zidi', 'année de sortie': '1999', 'nationalité1': 'FR/DE/IT', 'entrées (millions)2': '8,78'}\n",
      "{'rang': '44', 'titre': 'West Side Story', 'réalisateur': 'R. Wise, J. Robbins', 'année de sortie': '1962', 'nationalité1': 'US', 'entrées (millions)2': '8,77'}\n",
      "{'rang': '45', 'titre': 'La Grande Evasion', 'réalisateur': 'R. Walsh', 'année de sortie': '1963', 'nationalité1': 'US', 'entrées (millions)2': '8,76'}\n",
      "{'rang': '46', 'titre': 'Le Bataillon du ciel', 'réalisateur': 'A. Esway', 'année de sortie': '1947', 'nationalité1': 'FR', 'entrées (millions)2': '8,65'}\n",
      "{'rang': '47', 'titre': \"Le Fabuleux Destin d'Amélie Poulain\", 'réalisateur': 'J.P. Jeunet', 'année de sortie': '2001', 'nationalité1': 'FR/DE', 'entrées (millions)2': '8,53'}\n",
      "{'rang': '48', 'titre': 'Les Choristes', 'réalisateur': 'C. Barratier', 'année de sortie': '2004', 'nationalité1': 'FR/CH', 'entrées (millions)2': '8,47'}\n",
      "{'rang': '49', 'titre': 'Le Dictateur', 'réalisateur': 'C. Chaplin', 'année de sortie': '1945', 'nationalité1': 'US', 'entrées (millions)2': '8,40'}\n",
      "{'rang': '50', 'titre': 'Pour qui sonne le glas ?', 'réalisateur': 'S. Wood', 'année de sortie': '1947', 'nationalité1': 'US', 'entrées (millions)2': '8,27'}\n",
      "{'rang': '51', 'titre': 'Rien à déclarer', 'réalisateur': 'D. Boon', 'année de sortie': '2011', 'nationalité1': 'FR/BE', 'entrées (millions)2': '8,14'}\n",
      "{'rang': '52', 'titre': 'Violettes impériales', 'réalisateur': 'R. Pottier', 'année de sortie': '1952', 'nationalité1': 'FR/ES', 'entrées (millions)2': '8,13'}\n",
      "{'rang': '53', 'titre': 'Les Couloirs du temps - les visiteurs 2', 'réalisateur': 'J.M. Poiré', 'année de sortie': '1998', 'nationalité1': 'FR', 'entrées (millions)2': '8,04'}\n",
      "{'rang': '54', 'titre': 'Le Boulanger de Valorgue', 'réalisateur': 'H. Verneuil', 'année de sortie': '1953', 'nationalité1': 'FR', 'entrées (millions)2': '7,89'}\n",
      "{'rang': '55', 'titre': 'Un Indien dans la ville', 'réalisateur': 'H. Palud', 'année de sortie': '1994', 'nationalité1': 'FR', 'entrées (millions)2': '7,89'}\n",
      "{'rang': '56', 'titre': 'Pinocchio', 'réalisateur': 'W. Disney', 'année de sortie': '1946', 'nationalité1': 'US', 'entrées (millions)2': '7,85'}\n",
      "{'rang': '57', 'titre': \"L'Âge de glace 3 - le temps des dinosaures\", 'réalisateur': 'C. Saldanha', 'année de sortie': '2009', 'nationalité1': 'US', 'entrées (millions)2': '7,84'}\n",
      "{'rang': '58', 'titre': 'Star Wars : épisode 1 - la menace fantôme', 'réalisateur': 'G. Lucas', 'année de sortie': '1999', 'nationalité1': 'US', 'entrées (millions)2': '7,84'}\n",
      "{'rang': '59', 'titre': 'Tarzan', 'réalisateur': 'C. Buck, K. Lima', 'année de sortie': '1999', 'nationalité1': 'US', 'entrées (millions)2': '7,82'}\n",
      "{'rang': '60', 'titre': 'Le Gendarme de Saint-Tropez', 'réalisateur': 'J. Girault', 'année de sortie': '1964', 'nationalité1': 'FR/IT', 'entrées (millions)2': '7,81'}\n",
      "{'rang': '61', 'titre': 'Le Comte de Monte Cristo', 'réalisateur': 'R. Vernay', 'année de sortie': '1955', 'nationalité1': 'FR/IT', 'entrées (millions)2': '7,78'}\n",
      "{'rang': '62', 'titre': 'Sixième Sens', 'réalisateur': 'M. Night Shyamalan', 'année de sortie': '2000', 'nationalité1': 'US', 'entrées (millions)2': '7,74'}\n",
      "{'rang': '63', 'titre': 'Ratatouille', 'réalisateur': 'B. Bird, J. Pinkava', 'année de sortie': '2007', 'nationalité1': 'US', 'entrées (millions)2': '7,72'}\n",
      "{'rang': '64', 'titre': 'Le Cinquième Elément', 'réalisateur': 'L. Besson', 'année de sortie': '1997', 'nationalité1': 'FR', 'entrées (millions)2': '7,71'}\n",
      "{'rang': '65', 'titre': 'Harry Potter et la coupe de feu', 'réalisateur': 'M. Newell', 'année de sortie': '2005', 'nationalité1': 'GB', 'entrées (millions)2': '7,71'}\n",
      "{'rang': '66', 'titre': 'la famille Bélier', 'réalisateur': 'É. Lartigau', 'année de sortie': '2014', 'nationalité1': 'FR', 'entrées (millions)2': '7,70'}\n",
      "{'rang': '67', 'titre': 'Orange mécanique', 'réalisateur': 'S. Kubrick', 'année de sortie': '1972', 'nationalité1': 'GB', 'entrées (millions)2': '7,63'}\n",
      "{'rang': '68', 'titre': 'Les Bidasses en folie', 'réalisateur': 'C. Zidi', 'année de sortie': '1971', 'nationalité1': 'FR', 'entrées (millions)2': '7,46'}\n",
      "{'rang': '69', 'titre': 'Le Retour de Don Camillo', 'réalisateur': 'J. Duvivier', 'année de sortie': '1953', 'nationalité1': 'IT/FR', 'entrées (millions)2': '7,43'}\n",
      "{'rang': '70', 'titre': 'La Vérité si je mens 2', 'réalisateur': 'T. Gilou', 'année de sortie': '2001', 'nationalité1': 'FR', 'entrées (millions)2': '7,41'}\n",
      "{'rang': '71', 'titre': 'Le Seigneur des anneaux - le retour du roi', 'réalisateur': 'P. Jackson', 'année de sortie': '2003', 'nationalité1': 'NZ', 'entrées (millions)2': '7,40'}\n",
      "{'rang': '72', 'titre': 'Jour de fête', 'réalisateur': 'J. Tati', 'année de sortie': '1949', 'nationalité1': 'FR', 'entrées (millions)2': '7,37'}\n",
      "{'rang': '73', 'titre': 'Aladdin', 'réalisateur': 'J. Musker', 'année de sortie': '1993', 'nationalité1': 'US', 'entrées (millions)2': '7,35'}\n",
      "{'rang': '74', 'titre': 'Les Aventures de Peter Pan', 'réalisateur': 'W. Disney', 'année de sortie': '1953', 'nationalité1': 'US', 'entrées (millions)2': '7,34'}\n",
      "{'rang': '75', 'titre': 'Les Aventures de Rabbi Jacob', 'réalisateur': 'G. Oury', 'année de sortie': '1973', 'nationalité1': 'FR/IT', 'entrées (millions)2': '7,30'}\n",
      "{'rang': '76', 'titre': 'Danse avec les loups', 'réalisateur': 'K. Costner', 'année de sortie': '1991', 'nationalité1': 'US', 'entrées (millions)2': '7,28'}\n",
      "{'rang': '77', 'titre': 'Les Aventures de Bernard et Bianca', 'réalisateur': 'Collectif', 'année de sortie': '1977', 'nationalité1': 'US', 'entrées (millions)2': '7,24'}\n",
      "{'rang': '78', 'titre': 'Jean de Florette', 'réalisateur': 'C. Berri', 'année de sortie': '1986', 'nationalité1': 'FR', 'entrées (millions)2': '7,22'}\n",
      "{'rang': '79', 'titre': 'Star Wars : épisode 3 - la revanche des Sith', 'réalisateur': 'G. Lucas', 'année de sortie': '2005', 'nationalité1': 'US', 'entrées (millions)2': '7,21'}\n",
      "{'rang': '80', 'titre': 'Shrek 2', 'réalisateur': 'A. Adamson, V. Jenson', 'année de sortie': '2004', 'nationalité1': 'US', 'entrées (millions)2': '7,14'}\n",
      "{'rang': '81', 'titre': \"Harry Potter et le prisonnier d'Azkaban\", 'réalisateur': 'A. Cuaron', 'année de sortie': '2004', 'nationalité1': 'GB', 'entrées (millions)2': '7,13'}\n",
      "{'rang': '82', 'titre': 'Samson et Dalila', 'réalisateur': 'C.B. DeMille', 'année de sortie': '1951', 'nationalité1': 'US', 'entrées (millions)2': '7,12'}\n",
      "{'rang': '83', 'titre': 'Le Seigneur des anneaux - les deux tours', 'réalisateur': 'P. Jackson', 'année de sortie': '2002', 'nationalité1': 'NZ', 'entrées (millions)2': '7,11'}\n",
      "{'rang': '84', 'titre': \"Jeanne d'Arc\", 'réalisateur': 'V. Fleming', 'année de sortie': '1949', 'nationalité1': 'US', 'entrées (millions)2': '7,09'}\n",
      "{'rang': '85', 'titre': 'La Chèvre', 'réalisateur': 'F. Veber', 'année de sortie': '1981', 'nationalité1': 'FR/MX', 'entrées (millions)2': '7,08'}\n",
      "{'rang': '86', 'titre': 'Star Wars les derniers Jedi', 'réalisateur': 'R. Johnson', 'année de sortie': '2017', 'nationalité1': 'US', 'entrées (millions)2': '7,08'}\n",
      "{'rang': '87', 'titre': 'Monsieur Vincent', 'réalisateur': 'M. Cloche', 'année de sortie': '1947', 'nationalité1': 'FR', 'entrées (millions)2': '7,06'}\n",
      "{'rang': '88', 'titre': 'Les Sept Mercenaires', 'réalisateur': 'J. Sturges', 'année de sortie': '1961', 'nationalité1': 'US', 'entrées (millions)2': '7,04'}\n",
      "{'rang': '89', 'titre': 'Skyfall', 'réalisateur': 'S. Mendes', 'année de sortie': '2012', 'nationalité1': 'GB', 'entrées (millions)2': '7,00'}\n",
      "{'rang': '90', 'titre': \"Le Seigneur des anneaux - la communauté de l'anneau\", 'réalisateur': 'P. Jackson', 'année de sortie': '2001', 'nationalité1': 'NZ', 'entrées (millions)2': '6,99'}\n",
      "{'rang': '91', 'titre': \"Si Versailles m'était conté\", 'réalisateur': 'S. Guitry', 'année de sortie': '1954', 'nationalité1': 'FR', 'entrées (millions)2': '6,99'}\n",
      "{'rang': '92', 'titre': 'Les Grandes Vacances', 'réalisateur': 'J. Girault', 'année de sortie': '1967', 'nationalité1': 'FR/IT', 'entrées (millions)2': '6,99'}\n",
      "{'rang': '93', 'titre': 'Le Salaire de la peur', 'réalisateur': 'H.G. Clouzot', 'année de sortie': '1953', 'nationalité1': 'FR/IT', 'entrées (millions)2': '6,95'}\n",
      "{'rang': '94', 'titre': 'Michel Strogoff', 'réalisateur': 'C. Gallone', 'année de sortie': '1956', 'nationalité1': 'FR/IT', 'entrées (millions)2': '6,87'}\n",
      "{'rang': '95', 'titre': 'Le Gendarme se marie', 'réalisateur': 'J. Girault', 'année de sortie': '1968', 'nationalité1': 'FR/IT', 'entrées (millions)2': '6,83'}\n",
      "{'rang': '96', 'titre': 'Le Bossu de Notre-Dame', 'réalisateur': 'K. Wise, G. Trousdale', 'année de sortie': '1996', 'nationalité1': 'US', 'entrées (millions)2': '6,81'}\n",
      "{'rang': '97', 'titre': 'Astérix aux Jeux Olympiques', 'réalisateur': 'F. Forestier, T. Langmann', 'année de sortie': '2008', 'nationalité1': 'FR/DE/ES/IT', 'entrées (millions)2': '6,81'}\n",
      "{'rang': '98', 'titre': 'Mission spéciale', 'réalisateur': 'M. de Canonge', 'année de sortie': '1946', 'nationalité1': 'FR', 'entrées (millions)2': '6,78'}\n",
      "{'rang': '99', 'titre': 'Jurassic Park', 'réalisateur': 'S. Spielberg', 'année de sortie': '1993', 'nationalité1': 'US', 'entrées (millions)2': '6,74'}\n",
      "{'rang': '100', 'titre': 'Fanfan la Tulipe', 'réalisateur': 'Christian-Jaque', 'année de sortie': '1952', 'nationalité1': 'FR/IT', 'entrées (millions)2': '6,74'}\n",
      "{'rang': '101', 'titre': \"L'Exorciste\", 'réalisateur': 'W. Friedkin', 'année de sortie': '1974', 'nationalité1': 'US', 'entrées (millions)2': '6,72'}\n",
      "{'rang': '102', 'titre': 'Rox et Rouky', 'réalisateur': 'A. Stevens', 'année de sortie': '1981', 'nationalité1': 'US', 'entrées (millions)2': '6,72'}\n",
      "{'rang': '103', 'titre': 'Goldfinger', 'réalisateur': 'G. Hamilton', 'année de sortie': '1965', 'nationalité1': 'GB', 'entrées (millions)2': '6,68'}\n",
      "{'rang': '104', 'titre': 'Les Trois Frères', 'réalisateur': 'D. Bourdon, B. Campan', 'année de sortie': '1995', 'nationalité1': 'FR', 'entrées (millions)2': '6,67'}\n",
      "{'rang': '105', 'titre': 'les Minions', 'réalisateur': 'P. Coffin, K. Balda', 'année de sortie': '2015', 'nationalité1': 'US', 'entrées (millions)2': '6,66'}\n",
      "{'rang': '106', 'titre': 'Nous irons à Paris', 'réalisateur': 'J. Boyer', 'année de sortie': '1950', 'nationalité1': 'FR', 'entrées (millions)2': '6,66'}\n",
      "{'rang': '107', 'titre': 'Manon des sources', 'réalisateur': 'C. Berri', 'année de sortie': '1986', 'nationalité1': 'FR', 'entrées (millions)2': '6,65'}\n",
      "{'rang': '108', 'titre': \"l'Age de glace 4 : la dérive des continents\", 'réalisateur': 'M.Thurmeier, S. Martino', 'année de sortie': '2012', 'nationalité1': 'US', 'entrées (millions)2': '6,64'}\n",
      "{'rang': '109', 'titre': 'Sissi', 'réalisateur': 'E. Marischka', 'année de sortie': '1956', 'nationalité1': 'AT', 'entrées (millions)2': '6,64'}\n",
      "{'rang': '110', 'titre': \"L'Age de glace 2\", 'réalisateur': 'C. Saldanha', 'année de sortie': '2006', 'nationalité1': 'US', 'entrées (millions)2': '6,63'}\n",
      "{'rang': '111', 'titre': 'Le Cercle des poètes disparus', 'réalisateur': 'P. Weir', 'année de sortie': '1989', 'nationalité1': 'US', 'entrées (millions)2': '6,60'}\n",
      "{'rang': '112', 'titre': 'La Belle au bois dormant', 'réalisateur': 'W. Disney', 'année de sortie': '1959', 'nationalité1': 'US', 'entrées (millions)2': '6,59'}\n",
      "{'rang': '113', 'titre': 'Harry Potter et les reliques de la mort - 2e partie', 'réalisateur': 'D. Yates', 'année de sortie': '2011', 'nationalité1': 'GB', 'entrées (millions)2': '6,56'}\n",
      "{'rang': '114', 'titre': 'Pirates des Caraïbes - le secret du coffre maudit', 'réalisateur': 'G. Verbinski', 'année de sortie': '2006', 'nationalité1': 'US', 'entrées (millions)2': '6,52'}\n",
      "{'rang': '115', 'titre': 'Taxi', 'réalisateur': 'G. Pires', 'année de sortie': '1998', 'nationalité1': 'FR', 'entrées (millions)2': '6,49'}\n",
      "{'rang': '116', 'titre': 'Robin des bois', 'réalisateur': 'W. Reitherman', 'année de sortie': '1974', 'nationalité1': 'US', 'entrées (millions)2': '6,48'}\n",
      "{'rang': '117', 'titre': 'Rain Man', 'réalisateur': 'B. Levinson', 'année de sortie': '1989', 'nationalité1': 'US', 'entrées (millions)2': '6,48'}\n",
      "{'rang': '118', 'titre': 'La Guerre des étoiles', 'réalisateur': 'G. Lucas', 'année de sortie': '1977', 'nationalité1': 'US', 'entrées (millions)2': '6,46'}\n",
      "{'rang': '119', 'titre': 'Sissi impératrice', 'réalisateur': 'E. Marischka', 'année de sortie': '1957', 'nationalité1': 'AT', 'entrées (millions)2': '6,43'}\n",
      "{'rang': '120', 'titre': \"Les Aventuriers de l'arche perdue\", 'réalisateur': 'S. Spielberg', 'année de sortie': '1981', 'nationalité1': 'US', 'entrées (millions)2': '6,40'}\n",
      "{'rang': '121', 'titre': \"Tant qu'il y aura des hommes\", 'réalisateur': 'F. Zinnemann', 'année de sortie': '1954', 'nationalité1': 'US', 'entrées (millions)2': '6,40'}\n",
      "{'rang': '122', 'titre': 'Arthur et les Minimoys', 'réalisateur': 'L. Besson', 'année de sortie': '2006', 'nationalité1': 'FR', 'entrées (millions)2': '6,40'}\n",
      "{'rang': '123', 'titre': 'La Cuisine au beurre', 'réalisateur': 'G. Grangier', 'année de sortie': '1963', 'nationalité1': 'FR/IT', 'entrées (millions)2': '6,40'}\n",
      "{'rang': '124', 'titre': 'Spider-Man', 'réalisateur': 'S. Raimi', 'année de sortie': '2002', 'nationalité1': 'US', 'entrées (millions)2': '6,38'}\n",
      "{'rang': '125', 'titre': 'La Symphonie pastorale', 'réalisateur': 'J. Delannoy', 'année de sortie': '1946', 'nationalité1': 'FR', 'entrées (millions)2': '6,37'}\n",
      "{'rang': '126', 'titre': 'Ivanhoé', 'réalisateur': 'R. Thorpe', 'année de sortie': '1952', 'nationalité1': 'US', 'entrées (millions)2': '6,36'}\n",
      "{'rang': '127', 'titre': 'Le Bon, la brute et le truand', 'réalisateur': 'S. Leone', 'année de sortie': '1968', 'nationalité1': 'IT', 'entrées (millions)2': '6,35'}\n",
      "{'rang': '128', 'titre': 'Spider-Man 3', 'réalisateur': 'S. Raimi', 'année de sortie': '2007', 'nationalité1': 'US', 'entrées (millions)2': '6,32'}\n",
      "{'rang': '129', 'titre': 'Les Dents de la mer', 'réalisateur': 'S. Spielberg', 'année de sortie': '1976', 'nationalité1': 'US', 'entrées (millions)2': '6,32'}\n",
      "{'rang': '130', 'titre': 'Quo Vadis', 'réalisateur': 'M. Le Roy', 'année de sortie': '1953', 'nationalité1': 'US', 'entrées (millions)2': '6,31'}\n",
      "{'rang': '131', 'titre': 'La Gloire de mon père', 'réalisateur': 'Y. Robert', 'année de sortie': '1990', 'nationalité1': 'FR', 'entrées (millions)2': '6,30'}\n",
      "{'rang': '132', 'titre': 'Le Gendarme et les extra-terrestres', 'réalisateur': 'J. Girault', 'année de sortie': '1979', 'nationalité1': 'FR', 'entrées (millions)2': '6,28'}\n",
      "{'rang': '133', 'titre': 'Indiana Jones et la dernière croisade', 'réalisateur': 'S. Spielberg', 'année de sortie': '1989', 'nationalité1': 'US', 'entrées (millions)2': '6,26'}\n",
      "{'rang': '134', 'titre': \"Harry Potter et l'ordre du Phénix\", 'réalisateur': 'D. Yates', 'année de sortie': '2007', 'nationalité1': 'GB', 'entrées (millions)2': '6,21'}\n",
      "{'rang': '135', 'titre': \"Marche à l'ombre\", 'réalisateur': 'M. Blanc', 'année de sortie': '1984', 'nationalité1': 'FR', 'entrées (millions)2': '6,17'}\n",
      "{'rang': '136', 'titre': 'Pas si bête', 'réalisateur': 'A. Berthomieu', 'année de sortie': '1946', 'nationalité1': 'FR', 'entrées (millions)2': '6,17'}\n",
      "{'rang': '137', 'titre': \"Merlin l'enchanteur\", 'réalisateur': 'W. Reitherman', 'année de sortie': '1964', 'nationalité1': 'US', 'entrées (millions)2': '6,16'}\n",
      "{'rang': '138', 'titre': 'La Chartreuse de Parme', 'réalisateur': 'Christian-Jaque', 'année de sortie': '1948', 'nationalité1': 'FR', 'entrées (millions)2': '6,15'}\n",
      "{'rang': '139', 'titre': 'Germinal', 'réalisateur': 'C. Berri', 'année de sortie': '1993', 'nationalité1': 'FR/BE', 'entrées (millions)2': '6,15'}\n",
      "{'rang': '140', 'titre': 'Le Père tranquille', 'réalisateur': 'R. Clément', 'année de sortie': '1946', 'nationalité1': 'FR', 'entrées (millions)2': '6,14'}\n",
      "{'rang': '141', 'titre': 'Les Feux de la rampe', 'réalisateur': 'C. Chaplin', 'année de sortie': '1952', 'nationalité1': 'US', 'entrées (millions)2': '6,14'}\n",
      "{'rang': '142', 'titre': 'Harry Potter et le Prince de sang-mêlé', 'réalisateur': 'D. Yates', 'année de sortie': '2009', 'nationalité1': 'GB', 'entrées (millions)2': '6,14'}\n",
      "{'rang': '143', 'titre': 'Oscar', 'réalisateur': 'E. Molinaro', 'année de sortie': '1967', 'nationalité1': 'FR', 'entrées (millions)2': '6,12'}\n",
      "{'rang': '144', 'titre': 'Taxi 3', 'réalisateur': 'G. Krawczyk', 'année de sortie': '2003', 'nationalité1': 'FR', 'entrées (millions)2': '6,11'}\n",
      "{'rang': '145', 'titre': 'Harry Potter et les reliques de la mort - 1re partie', 'réalisateur': 'D. Yates', 'année de sortie': '2010', 'nationalité1': 'GB', 'entrées (millions)2': '6,09'}\n",
      "{'rang': '146', 'titre': 'Terminator 2 - le jugement dernier', 'réalisateur': 'J. Cameron', 'année de sortie': '1991', 'nationalité1': 'US', 'entrées (millions)2': '6,01'}\n",
      "{'rang': '147', 'titre': 'Midnight Express', 'réalisateur': 'A. Parker', 'année de sortie': '1978', 'nationalité1': 'GB', 'entrées (millions)2': '5,97'}\n",
      "{'rang': '148', 'titre': 'Les Dieux sont tombés sur la tête', 'réalisateur': 'J. Uys', 'année de sortie': '1983', 'nationalité1': 'ZA', 'entrées (millions)2': '5,95'}\n",
      "{'rang': '149', 'titre': \"Mourir d'aimer\", 'réalisateur': 'A. Cayatte', 'année de sortie': '1971', 'nationalité1': 'FR/IT', 'entrées (millions)2': '5,91'}\n",
      "{'rang': '150', 'titre': 'Qui veut la peau de Roger Rabbit ?', 'réalisateur': 'R. Zemeckis', 'année de sortie': '1988', 'nationalité1': 'US', 'entrées (millions)2': '5,91'}\n",
      "{'rang': '151', 'titre': 'Crocodile Dundee', 'réalisateur': 'P. Faiman', 'année de sortie': '1987', 'nationalité1': 'AU', 'entrées (millions)2': '5,89'}\n",
      "{'rang': '152', 'titre': 'Guerre et Paix', 'réalisateur': 'K. Vidor', 'année de sortie': '1956', 'nationalité1': 'US', 'entrées (millions)2': '5,89'}\n",
      "{'rang': '153', 'titre': 'Les Ripoux', 'réalisateur': 'C. Zidi', 'année de sortie': '1984', 'nationalité1': 'FR', 'entrées (millions)2': '5,88'}\n",
      "{'rang': '154', 'titre': \"L'Odyssée du Docteur Wassel\", 'réalisateur': 'C.B. DeMille', 'année de sortie': '1946', 'nationalité1': 'US', 'entrées (millions)2': '5,87'}\n",
      "{'rang': '155', 'titre': 'Rambo 2 - la mission', 'réalisateur': 'G.P. Cosmatos', 'année de sortie': '1985', 'nationalité1': 'US', 'entrées (millions)2': '5,85'}\n",
      "{'rang': '156', 'titre': 'Le Bossu', 'réalisateur': 'A. Hunebelle', 'année de sortie': '1959', 'nationalité1': 'FR/IT', 'entrées (millions)2': '5,85'}\n",
      "{'rang': '157', 'titre': \"L'Aile ou la Cuisse\", 'réalisateur': 'C. Zidi', 'année de sortie': '1976', 'nationalité1': 'FR', 'entrées (millions)2': '5,84'}\n",
      "{'rang': '158', 'titre': 'Sissi face à son destin', 'réalisateur': 'E. Marischka', 'année de sortie': '1958', 'nationalité1': 'AT', 'entrées (millions)2': '5,79'}\n",
      "{'rang': '159', 'titre': 'Quatre mariages et un enterrement', 'réalisateur': 'M. Newell', 'année de sortie': '1994', 'nationalité1': 'GB', 'entrées (millions)2': '5,78'}\n",
      "{'rang': '160', 'titre': 'Mulan', 'réalisateur': 'T. Bancroft, B. Cook', 'année de sortie': '1998', 'nationalité1': 'US', 'entrées (millions)2': '5,78'}\n",
      "{'rang': '161', 'titre': 'Men in Black', 'réalisateur': 'B. Sonnenfeld', 'année de sortie': '1997', 'nationalité1': 'US', 'entrées (millions)2': '5,76'}\n",
      "{'rang': '162', 'titre': 'Le train sifflera trois fois', 'réalisateur': 'F. Zinnemann', 'année de sortie': '1952', 'nationalité1': 'US', 'entrées (millions)2': '5,76'}\n",
      "{'rang': '163', 'titre': 'Moi, moche et méchant 3', 'réalisateur': 'K. Balda, P. Coffin, E. Guillon', 'année de sortie': '2017', 'nationalité1': 'US', 'entrées (millions)2': '5,75'}\n",
      "{'rang': '164', 'titre': 'Les Fous du stade', 'réalisateur': 'C. Zidi', 'année de sortie': '1972', 'nationalité1': 'FR', 'entrées (millions)2': '5,74'}\n",
      "{'rang': '165', 'titre': 'Les Vacances de Monsieur Hulot', 'réalisateur': 'J. Tati', 'année de sortie': '1953', 'nationalité1': 'FR', 'entrées (millions)2': '5,74'}\n",
      "{'rang': '166', 'titre': 'Le Troisième Homme', 'réalisateur': 'C. Reed', 'année de sortie': '1949', 'nationalité1': 'GB', 'entrées (millions)2': '5,74'}\n",
      "{'rang': '167', 'titre': 'Grease', 'réalisateur': 'R. Kleiser', 'année de sortie': '1978', 'nationalité1': 'US', 'entrées (millions)2': '5,74'}\n",
      "{'rang': '168', 'titre': 'Les Indestructibles 2', 'réalisateur': 'B. Brad', 'année de sortie': '2018', 'nationalité1': 'US', 'entrées (millions)2': '5,74'}\n",
      "{'rang': '169', 'titre': 'Opération tonnerre', 'réalisateur': 'T. Young', 'année de sortie': '1965', 'nationalité1': 'GB', 'entrées (millions)2': '5,74'}\n",
      "{'rang': '170', 'titre': 'Andalousie', 'réalisateur': 'R. Vernay', 'année de sortie': '1951', 'nationalité1': 'FR/ES', 'entrées (millions)2': '5,74'}\n",
      "{'rang': '171', 'titre': 'Les Anges gardiens', 'réalisateur': 'J.M. Poiré', 'année de sortie': '1995', 'nationalité1': 'FR', 'entrées (millions)2': '5,73'}\n",
      "{'rang': '172', 'titre': 'Les Valseuses', 'réalisateur': 'B. Blier', 'année de sortie': '1974', 'nationalité1': 'FR', 'entrées (millions)2': '5,73'}\n",
      "{'rang': '173', 'titre': 'La Bataille du rail', 'réalisateur': 'R. Clément', 'année de sortie': '1946', 'nationalité1': 'FR', 'entrées (millions)2': '5,73'}\n",
      "{'rang': '174', 'titre': \"Lawrence d'Arabie\", 'réalisateur': 'D. Lean', 'année de sortie': '1963', 'nationalité1': 'GB', 'entrées (millions)2': '5,72'}\n",
      "{'rang': '175', 'titre': 'A nous les petites Anglaises', 'réalisateur': 'M. Lang', 'année de sortie': '1976', 'nationalité1': 'FR', 'entrées (millions)2': '5,70'}\n",
      "{'rang': '176', 'titre': 'La Vérité', 'réalisateur': 'H.G. Clouzot', 'année de sortie': '1960', 'nationalité1': 'FR/IT', 'entrées (millions)2': '5,70'}\n",
      "{'rang': '177', 'titre': 'Notre-Dame de Paris', 'réalisateur': 'J. Delannoy', 'année de sortie': '1956', 'nationalité1': 'FR/IT', 'entrées (millions)2': '5,70'}\n",
      "{'rang': '178', 'titre': 'Indiana Jones et le temple maudit', 'réalisateur': 'S. Spielberg', 'année de sortie': '1984', 'nationalité1': 'US', 'entrées (millions)2': '5,69'}\n",
      "{'rang': '179', 'titre': 'Les Tuche 3', 'réalisateur': 'O. Baroux', 'année de sortie': '2018', 'nationalité1': 'FR', 'entrées (millions)2': '5,69'}\n",
      "{'rang': '180', 'titre': 'Matrix Reloaded', 'réalisateur': 'L. Wachowski, A. Wachowski', 'année de sortie': '2003', 'nationalité1': 'US', 'entrées (millions)2': '5,66'}\n",
      "{'rang': '181', 'titre': \"Pirates des Caraïbes - jusqu'au bout du monde\", 'réalisateur': 'G. Verbinski', 'année de sortie': '2007', 'nationalité1': 'US', 'entrées (millions)2': '5,64'}\n",
      "{'rang': '182', 'titre': 'Pocahontas, une légende indienne', 'réalisateur': 'M. Gabriel, E. Goldberg', 'année de sortie': '1995', 'nationalité1': 'US', 'entrées (millions)2': '5,63'}\n",
      "{'rang': '183', 'titre': 'Bons baisers de Russie', 'réalisateur': 'T. Young', 'année de sortie': '1964', 'nationalité1': 'GB', 'entrées (millions)2': '5,63'}\n",
      "{'rang': '184', 'titre': \"Star Wars : épisode 2 - l'attaque des clones\", 'réalisateur': 'G. Lucas', 'année de sortie': '2002', 'nationalité1': 'US', 'entrées (millions)2': '5,62'}\n",
      "{'rang': '185', 'titre': \"La Ch'tite Famille\", 'réalisateur': 'D. Boon', 'année de sortie': '2018', 'nationalité1': 'FR', 'entrées (millions)2': '5,62'}\n",
      "{'rang': '186', 'titre': 'Le Petit Nicolas', 'réalisateur': 'L. Tirard', 'année de sortie': '2009', 'nationalité1': 'FR/BE', 'entrées (millions)2': '5,62'}\n",
      "{'rang': '187', 'titre': 'Independence Day', 'réalisateur': 'R. Emmerich', 'année de sortie': '1996', 'nationalité1': 'US', 'entrées (millions)2': '5,61'}\n",
      "{'rang': '188', 'titre': 'La Folie des grandeurs', 'réalisateur': 'G. Oury', 'année de sortie': '1971', 'nationalité1': 'FR/DE/ES', 'entrées (millions)2': '5,57'}\n",
      "{'rang': '189', 'titre': 'Quai des Orfèvres', 'réalisateur': 'H.G. Clouzot', 'année de sortie': '1947', 'nationalité1': 'FR', 'entrées (millions)2': '5,56'}\n",
      "{'rang': '190', 'titre': 'Le Cerveau', 'réalisateur': 'G. Oury', 'année de sortie': '1969', 'nationalité1': 'FR/IT', 'entrées (millions)2': '5,55'}\n",
      "{'rang': '191', 'titre': 'Vaïana, la légende du bout du monde', 'réalisateur': 'J. Musker, R. Clements', 'année de sortie': '2016', 'nationalité1': 'US', 'entrées (millions)2': '5,55'}\n",
      "{'rang': '192', 'titre': 'Le Petit Baigneur', 'réalisateur': 'R. Dhéry', 'année de sortie': '1968', 'nationalité1': 'FR/IT', 'entrées (millions)2': '5,54'}\n",
      "{'rang': '193', 'titre': 'Shrek le troisième', 'réalisateur': 'C. Miller', 'année de sortie': '2007', 'nationalité1': 'US', 'entrées (millions)2': '5,54'}\n",
      "{'rang': '194', 'titre': 'Love Story', 'réalisateur': 'A. Hiller', 'année de sortie': '1971', 'nationalité1': 'US', 'entrées (millions)2': '5,51'}\n",
      "{'rang': '195', 'titre': 'Les Indestructibles', 'réalisateur': 'B. Bird', 'année de sortie': '2004', 'nationalité1': 'US', 'entrées (millions)2': '5,50'}\n",
      "{'rang': '196', 'titre': 'Le Gendarme à New-York', 'réalisateur': 'J. Girault', 'année de sortie': '1965', 'nationalité1': 'FR/IT', 'entrées (millions)2': '5,50'}\n",
      "{'rang': '197', 'titre': 'Camping', 'réalisateur': 'F. Onteniente', 'année de sortie': '2006', 'nationalité1': 'FR', 'entrées (millions)2': '5,48'}\n",
      "{'rang': '198', 'titre': 'Les Petits Mouchoirs', 'réalisateur': 'G. Canet', 'année de sortie': '2010', 'nationalité1': 'FR', 'entrées (millions)2': '5,46'}\n",
      "{'rang': '199', 'titre': \"L'As des as\", 'réalisateur': 'G. Oury', 'année de sortie': '1982', 'nationalité1': 'FR/DE', 'entrées (millions)2': '5,45'}\n",
      "{'rang': '200', 'titre': 'Le Bal des sirènes', 'réalisateur': 'G. Sidney', 'année de sortie': '1946', 'nationalité1': 'US', 'entrées (millions)2': '5,44'}\n"
     ]
    }
   ],
   "source": [
    "import csv\n",
    "\n",
    "# Ouverture du fichier csv MEC.csv\n",
    "with open('csv/MEC.csv','r') as f:\n",
    "    table = list(csv.DictReader(f,delimiter=\";\"))\n",
    "    for i in range(len(table)):\n",
    "        print(table[i])"
   ]
  },
  {
   "cell_type": "code",
   "execution_count": 71,
   "metadata": {},
   "outputs": [
    {
     "name": "stdout",
     "output_type": "stream",
     "text": [
      "Il y a 53 films US dans la table.\n"
     ]
    }
   ],
   "source": [
    "n=0\n",
    "# Ouverture du fichier csv MEC.csv\n",
    "with open('csv/MEC.csv','r') as f:\n",
    "    table = list(csv.DictReader(f,delimiter=\";\"))\n",
    "    for i in range(len(table)):\n",
    "        if table[i][\"nationalité1\"]=='FR':\n",
    "            n=n+1\n",
    "    print('Il y a',n,'films US dans la table.')"
   ]
  },
  {
   "cell_type": "code",
   "execution_count": 72,
   "metadata": {
    "scrolled": true
   },
   "outputs": [
    {
     "name": "stdout",
     "output_type": "stream",
     "text": [
      "Bienvenue chez les Ch'tis\n",
      "Intouchables\n",
      "Astérix et Obélix : mission Cléopâtre\n",
      "Les Visiteurs\n",
      "Qu'est-ce qu'on a fait au bon dieu ?\n",
      "Taxi 2\n",
      "Trois hommes et un couffin\n",
      "Les Bronzés 3 - amis pour la vie\n",
      "La Guerre des boutons\n",
      "Le Dîner de cons\n",
      "Le Grand Bleu\n",
      "L'Ours\n",
      "Emmanuelle\n",
      "Le Bataillon du ciel\n",
      "Les Couloirs du temps - les visiteurs 2\n",
      "Le Boulanger de Valorgue\n",
      "Un Indien dans la ville\n",
      "Le Cinquième Elément\n",
      "la famille Bélier\n",
      "Les Bidasses en folie\n",
      "La Vérité si je mens 2\n",
      "Jour de fête\n",
      "Jean de Florette\n",
      "Monsieur Vincent\n",
      "Si Versailles m'était conté\n",
      "Mission spéciale\n",
      "Les Trois Frères\n",
      "Nous irons à Paris\n",
      "Manon des sources\n",
      "Taxi\n",
      "Arthur et les Minimoys\n",
      "La Symphonie pastorale\n",
      "La Gloire de mon père\n",
      "Le Gendarme et les extra-terrestres\n",
      "Marche à l'ombre\n",
      "Pas si bête\n",
      "La Chartreuse de Parme\n",
      "Le Père tranquille\n",
      "Oscar\n",
      "Taxi 3\n",
      "Les Ripoux\n",
      "L'Aile ou la Cuisse\n",
      "Les Fous du stade\n",
      "Les Vacances de Monsieur Hulot\n",
      "Les Anges gardiens\n",
      "Les Valseuses\n",
      "La Bataille du rail\n",
      "A nous les petites Anglaises\n",
      "Les Tuche 3\n",
      "La Ch'tite Famille\n",
      "Quai des Orfèvres\n",
      "Camping\n",
      "Les Petits Mouchoirs\n"
     ]
    }
   ],
   "source": [
    "# Ouverture du fichier csv MEC.csv\n",
    "with open('csv/MEC.csv','r') as f:\n",
    "    table = list(csv.DictReader(f,delimiter=\";\"))\n",
    "    for i in range(len(table)):\n",
    "        if table[i][\"nationalité1\"]=='FR':\n",
    "            print(table[i][\"titre\"])"
   ]
  },
  {
   "cell_type": "code",
   "execution_count": 74,
   "metadata": {},
   "outputs": [
    {
     "name": "stdout",
     "output_type": "stream",
     "text": [
      "{'rang': '25', 'titre': 'Taxi 2', 'réalisateur': 'G. Krawczyk', 'année de sortie': '2000', 'nationalité1': 'FR', 'entrées (millions)2': '10,30'}\n"
     ]
    }
   ],
   "source": [
    "# Ouverture du fichier csv MEC.csv\n",
    "with open('csv/MEC.csv','r') as f:\n",
    "    table = list(csv.DictReader(f,delimiter=\";\"))\n",
    "    print(table[24])"
   ]
  },
  {
   "cell_type": "code",
   "execution_count": 77,
   "metadata": {},
   "outputs": [],
   "source": [
    "def film_par_pays(pays):\n",
    "    with open('csv/MEC.csv','r') as f:\n",
    "        table = list(csv.DictReader(f,delimiter=\";\"))\n",
    "        liste=[]\n",
    "        for i in range(len(table)):\n",
    "            if table[i][\"nationalité1\"]==pays:\n",
    "                liste.append(table[i][\"titre\"])\n",
    "        return liste"
   ]
  },
  {
   "cell_type": "code",
   "execution_count": 78,
   "metadata": {
    "scrolled": true
   },
   "outputs": [
    {
     "data": {
      "text/plain": [
       "['Le Pont de la rivière Kwai',\n",
       " 'Harry Potter et la coupe de feu',\n",
       " 'Orange mécanique',\n",
       " \"Harry Potter et le prisonnier d'Azkaban\",\n",
       " 'Skyfall',\n",
       " 'Goldfinger',\n",
       " 'Harry Potter et les reliques de la mort - 2e partie',\n",
       " \"Harry Potter et l'ordre du Phénix\",\n",
       " 'Harry Potter et le Prince de sang-mêlé',\n",
       " 'Harry Potter et les reliques de la mort - 1re partie',\n",
       " 'Midnight Express',\n",
       " 'Quatre mariages et un enterrement',\n",
       " 'Le Troisième Homme',\n",
       " 'Opération tonnerre',\n",
       " \"Lawrence d'Arabie\",\n",
       " 'Bons baisers de Russie']"
      ]
     },
     "execution_count": 78,
     "metadata": {},
     "output_type": "execute_result"
    }
   ],
   "source": [
    "film_par_pays(\"GB\")"
   ]
  },
  {
   "cell_type": "code",
   "execution_count": 94,
   "metadata": {},
   "outputs": [],
   "source": [
    "def film_par_année(table,année):\n",
    "    with open('csv/MEC.csv','r') as f:\n",
    "        table = list(csv.DictReader(f,delimiter=\";\"))\n",
    "        trouvé,n= False,0\n",
    "        for i in range(len(table)):\n",
    "            if table[i][\"année de sortie\"]==année:\n",
    "                trouvé= True\n",
    "                n=i\n",
    "        if trouvé:\n",
    "            return table[n]\n",
    "        else:\n",
    "            return {}"
   ]
  },
  {
   "cell_type": "code",
   "execution_count": 98,
   "metadata": {},
   "outputs": [
    {
     "data": {
      "text/plain": [
       "{}"
      ]
     },
     "execution_count": 98,
     "metadata": {},
     "output_type": "execute_result"
    }
   ],
   "source": [
    "film_par_année(table,\"2019\")"
   ]
  },
  {
   "cell_type": "code",
   "execution_count": 109,
   "metadata": {},
   "outputs": [],
   "source": [
    "voyage=[['départ','arrivée','distance','durée'],\\\n",
    "        ['caen','paris',250,4],\\\n",
    "        ['brest','strasbourg',900,5]]"
   ]
  },
  {
   "cell_type": "code",
   "execution_count": 110,
   "metadata": {},
   "outputs": [
    {
     "data": {
      "text/plain": [
       "[['départ', 'arrivée', 'distance', 'durée'],\n",
       " ['caen', 'paris', 250, 4],\n",
       " ['brest', 'strasbourg', 900, 5]]"
      ]
     },
     "execution_count": 110,
     "metadata": {},
     "output_type": "execute_result"
    }
   ],
   "source": [
    "voyage"
   ]
  },
  {
   "cell_type": "code",
   "execution_count": 130,
   "metadata": {},
   "outputs": [],
   "source": [
    "import csv\n",
    "with open('csv/voyage.csv','w',newline='') as fichier:\n",
    "    table=csv.writer(fichier,delimiter=\";\")\n",
    "    table.writerows(voyage)"
   ]
  },
  {
   "cell_type": "code",
   "execution_count": 114,
   "metadata": {},
   "outputs": [],
   "source": [
    "voyage.append(['lille','marseille',1100,7])"
   ]
  },
  {
   "cell_type": "code",
   "execution_count": 115,
   "metadata": {},
   "outputs": [
    {
     "data": {
      "text/plain": [
       "[['départ', 'arrivée', 'distance', 'durée'],\n",
       " ['caen', 'paris', 250, 4],\n",
       " ['brest', 'strasbourg', 900, 5],\n",
       " ['lille', 'marseille', 1100, 7]]"
      ]
     },
     "execution_count": 115,
     "metadata": {},
     "output_type": "execute_result"
    }
   ],
   "source": [
    "voyage"
   ]
  },
  {
   "cell_type": "code",
   "execution_count": 120,
   "metadata": {},
   "outputs": [],
   "source": [
    "def saisir_voyage(voyage):\n",
    "    dep=input(\"Ville de départ:\")\n",
    "    arr=input(\"Ville d'arrivée':\")\n",
    "    dist=int(input('Distance en km:'))\n",
    "    durée=int(input(\"Durée du séjour en jours:\"))\n",
    "    voyage.append([dep,arr,dist,durée])\n",
    "    return voyage"
   ]
  },
  {
   "cell_type": "code",
   "execution_count": 121,
   "metadata": {},
   "outputs": [
    {
     "name": "stdout",
     "output_type": "stream",
     "text": [
      "Ville de départ:bordeaux\n",
      "Ville d'arrivée':toulouse\n",
      "Distance en km:200\n",
      "Durée du séjour en jours:10\n"
     ]
    },
    {
     "data": {
      "text/plain": [
       "[['départ', 'arrivée', 'distance', 'durée'],\n",
       " ['caen', 'paris', 250, 4],\n",
       " ['brest', 'strasbourg', 900, 5],\n",
       " ['lille', 'marseille', 1100, 7],\n",
       " ['Lyon', 'Caen', 650, 8],\n",
       " ['bordeaux', 'toulouse', 200, 10]]"
      ]
     },
     "execution_count": 121,
     "metadata": {},
     "output_type": "execute_result"
    }
   ],
   "source": [
    "saisir_voyage(voyage)"
   ]
  },
  {
   "cell_type": "code",
   "execution_count": 124,
   "metadata": {},
   "outputs": [],
   "source": [
    "def enregistre(f,v):\n",
    "    with open(f,'w',newline='') as fichier:\n",
    "        table=csv.writer(fichier,delimiter=\";\")\n",
    "        table.writerows(v)"
   ]
  },
  {
   "cell_type": "code",
   "execution_count": 133,
   "metadata": {},
   "outputs": [],
   "source": [
    "def continue_saisie():\n",
    "    rep=input('Souhaitez-vous ajouter un voyage : o/n')\n",
    "    if rep==\"o\":\n",
    "        return True\n",
    "    else:\n",
    "        return False"
   ]
  },
  {
   "cell_type": "code",
   "execution_count": 137,
   "metadata": {
    "scrolled": true
   },
   "outputs": [
    {
     "name": "stdout",
     "output_type": "stream",
     "text": [
      "Souhaitez-vous ajouter un voyage : o/no\n",
      "Ville de départ:nice\n",
      "Ville d'arrivée':paris\n",
      "Distance en km:800\n",
      "Durée du séjour en jours:6\n",
      "Souhaitez-vous ajouter un voyage : o/nn\n"
     ]
    }
   ],
   "source": [
    "saisie=continue_saisie()\n",
    "while saisie:\n",
    "    saisir_voyage(voyage)\n",
    "    enregistre('csv/voyage.csv',voyage)\n",
    "    saisie=continue_saisie()"
   ]
  },
  {
   "cell_type": "code",
   "execution_count": 28,
   "metadata": {},
   "outputs": [],
   "source": [
    "def tuplefloat(t):\n",
    "    t=t.split(\",\")\n",
    "    if len(t)==2:\n",
    "        r=float(t[0])+float(t[1])/100\n",
    "    return r"
   ]
  },
  {
   "cell_type": "code",
   "execution_count": 39,
   "metadata": {},
   "outputs": [
    {
     "name": "stdout",
     "output_type": "stream",
     "text": [
      "['200', 'Le Bal des sirènes', 'G. Sidney', '1946', 'US', '5,44']\n",
      "7.737800000000002\n"
     ]
    }
   ],
   "source": [
    "import csv\n",
    "\n",
    "# Ouverture du fichier csv MEC.csv\n",
    "with open('csv/MEC.csv','r') as f:\n",
    "    table = list(csv.reader(f,delimiter=\";\"))\n",
    "    s=0\n",
    "    for i in range(1,200):\n",
    "        s=s+tuplefloat(table[i][5])\n",
    "    print(s/200)"
   ]
  },
  {
   "cell_type": "code",
   "execution_count": null,
   "metadata": {},
   "outputs": [],
   "source": []
  }
 ],
 "metadata": {
  "kernelspec": {
   "display_name": "Python 3",
   "language": "python",
   "name": "python3"
  },
  "language_info": {
   "codemirror_mode": {
    "name": "ipython",
    "version": 3
   },
   "file_extension": ".py",
   "mimetype": "text/x-python",
   "name": "python",
   "nbconvert_exporter": "python",
   "pygments_lexer": "ipython3",
   "version": "3.8.1"
  }
 },
 "nbformat": 4,
 "nbformat_minor": 2
}
