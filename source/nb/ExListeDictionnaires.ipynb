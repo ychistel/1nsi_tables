{
 "cells": [
  {
   "cell_type": "markdown",
   "metadata": {},
   "source": [
    "Jusqu'à maintenant, on a créé un dictionnaire unique contenant des clés uniques avec des valeurs pouvant être différentes. On utilisait la clé pour différencier les valeurs et on l'utilisait pour accéder aux valeurs.\n",
    "\n",
    "Dans l'exercice, on va créer une liste contenant plusieurs dictionnaires avec les mêmes clés.\n",
    "On s'intéresse aux génies scientifiques célèbres. Notre liste contient 2 dictionnaires :\n",
    "```python\n",
    "génie=[{\"nom\":\"einstein\",\"prénom\":\"albert\"},{\"nom\":\"euler\",\"prénom\":\"léonard\"}]\n",
    "```\n",
    "Créer cette liste."
   ]
  },
  {
   "cell_type": "code",
   "execution_count": 2,
   "metadata": {},
   "outputs": [],
   "source": [
    "génie=[{\"nom\":\"einstein\",\"prénom\":\"albert\"},{\"nom\":\"euler\",\"prénom\":\"léonard\"}]"
   ]
  },
  {
   "cell_type": "markdown",
   "metadata": {},
   "source": [
    "Ajouter comme nouvel enregistrement Léonard de Vinci."
   ]
  },
  {
   "cell_type": "code",
   "execution_count": 4,
   "metadata": {},
   "outputs": [],
   "source": [
    "génie.append({\"nom\":\"de vinci\",\"prénom\":\"léonard\"})"
   ]
  },
  {
   "cell_type": "code",
   "execution_count": 5,
   "metadata": {},
   "outputs": [
    {
     "data": {
      "text/plain": [
       "[{'nom': 'einstein', 'prénom': 'albert'},\n",
       " {'nom': 'euler', 'prénom': 'léonard'},\n",
       " {'nom': 'de vinci', 'prénom': 'léonard'}]"
      ]
     },
     "execution_count": 5,
     "metadata": {},
     "output_type": "execute_result"
    }
   ],
   "source": [
    "génie"
   ]
  },
  {
   "cell_type": "code",
   "execution_count": 6,
   "metadata": {},
   "outputs": [
    {
     "name": "stdout",
     "output_type": "stream",
     "text": [
      "einstein\n"
     ]
    }
   ],
   "source": [
    "print(génie[0][\"nom\"])"
   ]
  },
  {
   "cell_type": "code",
   "execution_count": 8,
   "metadata": {},
   "outputs": [
    {
     "name": "stdout",
     "output_type": "stream",
     "text": [
      "albert\n",
      "léonard\n",
      "léonard\n"
     ]
    }
   ],
   "source": [
    "for i in range(len(génie)):\n",
    "    print(génie[i][\"prénom\"])"
   ]
  },
  {
   "cell_type": "code",
   "execution_count": 9,
   "metadata": {},
   "outputs": [],
   "source": [
    "génie[0][\"nationalité\"]=\"allemand\""
   ]
  },
  {
   "cell_type": "code",
   "execution_count": 10,
   "metadata": {},
   "outputs": [
    {
     "data": {
      "text/plain": [
       "[{'nom': 'einstein', 'prénom': 'albert', 'nationalité': 'allemand'},\n",
       " {'nom': 'euler', 'prénom': 'léonard'},\n",
       " {'nom': 'de vinci', 'prénom': 'léonard'}]"
      ]
     },
     "execution_count": 10,
     "metadata": {},
     "output_type": "execute_result"
    }
   ],
   "source": [
    "génie"
   ]
  },
  {
   "cell_type": "code",
   "execution_count": null,
   "metadata": {},
   "outputs": [],
   "source": []
  }
 ],
 "metadata": {
  "kernelspec": {
   "display_name": "Python 3",
   "language": "python",
   "name": "python3"
  },
  "language_info": {
   "codemirror_mode": {
    "name": "ipython",
    "version": 3
   },
   "file_extension": ".py",
   "mimetype": "text/x-python",
   "name": "python",
   "nbconvert_exporter": "python",
   "pygments_lexer": "ipython3",
   "version": "3.8.1"
  }
 },
 "nbformat": 4,
 "nbformat_minor": 2
}
