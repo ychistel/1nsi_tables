{
 "cells": [
  {
   "cell_type": "code",
   "execution_count": 1,
   "metadata": {},
   "outputs": [],
   "source": [
    "noms=[\"marie\",\"pierre\",\"lucie\",\"julien\",\"alice\",\"kevin\"]\n",
    "couleurs=[\"bleu\",\"vert\",\"rouge\",\"jaune\",\"violet\",\"orange\",\"marron\"]\n",
    "instruments=[\"guitare\",\"piano\",\"batterie\",\"violon\"]"
   ]
  },
  {
   "cell_type": "code",
   "execution_count": 8,
   "metadata": {},
   "outputs": [],
   "source": [
    "import random as r\n",
    "\n",
    "def aleadico(n,c,i):\n",
    "    nom,couleur,instrument=r.choice(n),r.choice(c),r.choice(i)\n",
    "    return {\"nom\":nom,\"couleur\":couleur,\"instrument\":instrument}"
   ]
  },
  {
   "cell_type": "code",
   "execution_count": 10,
   "metadata": {},
   "outputs": [
    {
     "data": {
      "text/plain": [
       "{'nom': 'alice', 'couleur': 'rouge', 'instrument': 'guitare'}"
      ]
     },
     "execution_count": 10,
     "metadata": {},
     "output_type": "execute_result"
    }
   ],
   "source": [
    "aleadico(noms,couleurs,instruments)"
   ]
  },
  {
   "cell_type": "code",
   "execution_count": 13,
   "metadata": {},
   "outputs": [],
   "source": [
    "def listedicos(n):\n",
    "    liste=[]\n",
    "    for i in range(n):\n",
    "        liste.append(aleadico(noms,couleurs,instruments))\n",
    "    return liste"
   ]
  },
  {
   "cell_type": "code",
   "execution_count": 80,
   "metadata": {},
   "outputs": [],
   "source": [
    "t=listedicos(20)"
   ]
  },
  {
   "cell_type": "code",
   "execution_count": 81,
   "metadata": {},
   "outputs": [
    {
     "name": "stdout",
     "output_type": "stream",
     "text": [
      "0 {'nom': 'lucie', 'couleur': 'violet', 'instrument': 'batterie'}\n",
      "1 {'nom': 'lucie', 'couleur': 'vert', 'instrument': 'piano'}\n",
      "2 {'nom': 'julien', 'couleur': 'marron', 'instrument': 'guitare'}\n",
      "3 {'nom': 'julien', 'couleur': 'rouge', 'instrument': 'violon'}\n",
      "4 {'nom': 'julien', 'couleur': 'vert', 'instrument': 'guitare'}\n",
      "5 {'nom': 'julien', 'couleur': 'rouge', 'instrument': 'piano'}\n",
      "6 {'nom': 'marie', 'couleur': 'rouge', 'instrument': 'piano'}\n",
      "7 {'nom': 'marie', 'couleur': 'marron', 'instrument': 'violon'}\n",
      "8 {'nom': 'kevin', 'couleur': 'orange', 'instrument': 'piano'}\n",
      "9 {'nom': 'marie', 'couleur': 'bleu', 'instrument': 'guitare'}\n",
      "10 {'nom': 'pierre', 'couleur': 'marron', 'instrument': 'guitare'}\n",
      "11 {'nom': 'alice', 'couleur': 'marron', 'instrument': 'violon'}\n",
      "12 {'nom': 'alice', 'couleur': 'rouge', 'instrument': 'guitare'}\n",
      "13 {'nom': 'alice', 'couleur': 'violet', 'instrument': 'batterie'}\n",
      "14 {'nom': 'marie', 'couleur': 'jaune', 'instrument': 'batterie'}\n",
      "15 {'nom': 'pierre', 'couleur': 'vert', 'instrument': 'guitare'}\n",
      "16 {'nom': 'marie', 'couleur': 'jaune', 'instrument': 'batterie'}\n",
      "17 {'nom': 'lucie', 'couleur': 'vert', 'instrument': 'guitare'}\n",
      "18 {'nom': 'marie', 'couleur': 'marron', 'instrument': 'guitare'}\n",
      "19 {'nom': 'kevin', 'couleur': 'marron', 'instrument': 'piano'}\n"
     ]
    }
   ],
   "source": [
    "for i in range(len(t)):\n",
    "    print(i,t[i])"
   ]
  },
  {
   "cell_type": "code",
   "execution_count": 82,
   "metadata": {},
   "outputs": [],
   "source": [
    "def doublon(t):\n",
    "    liste=[]\n",
    "    num=[]\n",
    "    for i in range(len(t)):\n",
    "        for j in range(i+1,len(t)):\n",
    "            if t[i][\"nom\"]==t[j][\"nom\"] \\\n",
    "            and t[i][\"couleur\"]==t[j][\"couleur\"]\\\n",
    "            and t[i][\"instrument\"]==t[j][\"instrument\"]:\n",
    "                liste.append(t[i])\n",
    "                num.append((i,j))\n",
    "    return liste,num"
   ]
  },
  {
   "cell_type": "code",
   "execution_count": 83,
   "metadata": {},
   "outputs": [
    {
     "data": {
      "text/plain": [
       "([{'nom': 'marie', 'couleur': 'jaune', 'instrument': 'batterie'}], [(14, 16)])"
      ]
     },
     "execution_count": 83,
     "metadata": {},
     "output_type": "execute_result"
    }
   ],
   "source": [
    "doublon(t)"
   ]
  },
  {
   "cell_type": "code",
   "execution_count": 73,
   "metadata": {},
   "outputs": [],
   "source": [
    "def liste_noms(t):\n",
    "    noms=[]\n",
    "    for i in range(len(t)):\n",
    "        if t[i][\"nom\"] not in noms:\n",
    "            noms.append(t[i][\"nom\"])\n",
    "    return noms\n",
    "\n",
    "def nom_frequent(t):\n",
    "    max=0\n",
    "    npf=''\n",
    "    noms=liste_noms(t)\n",
    "    for nom in noms:\n",
    "        n=0\n",
    "        for i in range(len(t)):\n",
    "            if nom==t[i][\"nom\"]:\n",
    "                n=n+1\n",
    "        if n>max:\n",
    "            npf=[nom]\n",
    "            max=n\n",
    "        elif n==max:\n",
    "            npf.append(nom)\n",
    "            max=n\n",
    "    return npf,max       "
   ]
  },
  {
   "cell_type": "code",
   "execution_count": 84,
   "metadata": {},
   "outputs": [
    {
     "data": {
      "text/plain": [
       "(['marie'], 6)"
      ]
     },
     "execution_count": 84,
     "metadata": {},
     "output_type": "execute_result"
    }
   ],
   "source": [
    "nom_frequent(t)"
   ]
  },
  {
   "cell_type": "code",
   "execution_count": null,
   "metadata": {},
   "outputs": [],
   "source": []
  }
 ],
 "metadata": {
  "kernelspec": {
   "display_name": "Python 3",
   "language": "python",
   "name": "python3"
  },
  "language_info": {
   "codemirror_mode": {
    "name": "ipython",
    "version": 3
   },
   "file_extension": ".py",
   "mimetype": "text/x-python",
   "name": "python",
   "nbconvert_exporter": "python",
   "pygments_lexer": "ipython3",
   "version": "3.8.1"
  }
 },
 "nbformat": 4,
 "nbformat_minor": 2
}
